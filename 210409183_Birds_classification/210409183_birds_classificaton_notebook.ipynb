{
  "cells": [
    {
      "attachments": {},
      "cell_type": "markdown",
      "metadata": {
        "id": "WpHfFAjTEb0m"
      },
      "source": [
        "Before running the code place the zipped birds data downloaded from the link in the google drive.  \n",
        "pass the location OF the file TO *data_source* parameter.  \n",
        "model_output should be assigned with dircetory name where the checkpoint model has to be saved.  \n",
        "After running the first few script. new folder named *data* will be created with the following structure.   \n",
        "-----*data*  \n",
        "----------*CUB_200_2011*   \n",
        "-------------*images_sorted*   \n",
        "----------------*test*  \n",
        "------------------test images will be presnt in this folder under different sub directories    \n",
        "----------------*train*  \n",
        "------------------train images will be presnt in this folder under different sub directories   "
      ]
    },
    {
      "cell_type": "code",
      "execution_count": null,
      "metadata": {
        "id": "hvOVCgwSG4xS",
        "vscode": {
          "languageId": "python"
        }
      },
      "outputs": [],
      "source": [
        "import os\n",
        "data_source='/content/gdrive/MyDrive/birds_classification_data/bird_CUB_200_2011.zip'\n",
        "#model_output='/content/gdrive/MyDrive/birds_check_points/'\n",
        "#model_file=os.path.join(model_output,'model.{epoch:02d}-{val_accuracy:.2f}.h5')"
      ]
    },
    {
      "cell_type": "code",
      "execution_count": null,
      "metadata": {
        "colab": {
          "base_uri": "https://localhost:8080/"
        },
        "id": "n-g8GOgTPNkv",
        "outputId": "931f5625-386c-46b8-8336-67637e4305a9",
        "vscode": {
          "languageId": "python"
        }
      },
      "outputs": [
        {
          "name": "stdout",
          "output_type": "stream",
          "text": [
            "Mounted at /content/gdrive/\n"
          ]
        }
      ],
      "source": [
        "from google.colab import drive\n",
        "drive.mount('/content/gdrive/')"
      ]
    },
    {
      "cell_type": "code",
      "execution_count": null,
      "metadata": {
        "id": "bUphP7UeRflt",
        "vscode": {
          "languageId": "python"
        }
      },
      "outputs": [],
      "source": [
        "import sys\n",
        "from matplotlib import pyplot as plt\n",
        "import random\n",
        "import math\n",
        "import shutil"
      ]
    },
    {
      "cell_type": "code",
      "execution_count": null,
      "metadata": {
        "id": "hWSoExsIPXWf",
        "vscode": {
          "languageId": "python"
        }
      },
      "outputs": [],
      "source": [
        "import zipfile\n",
        "import os\n",
        "\n",
        "zip_ref = zipfile.ZipFile(data_source, 'r') #Opens the zip file in read\n",
        "zip_ref.extractall('/data') #Extracts the files into the /data folder\n",
        "zip_ref.close()"
      ]
    },
    {
      "cell_type": "code",
      "execution_count": null,
      "metadata": {
        "colab": {
          "base_uri": "https://localhost:8080/"
        },
        "id": "UtVY4fGHzw8l",
        "outputId": "2c47a873-3ac5-4158-d7ec-7f7fe18bdcaa",
        "vscode": {
          "languageId": "python"
        }
      },
      "outputs": [
        {
          "name": "stdout",
          "output_type": "stream",
          "text": [
            "Looking in indexes: https://pypi.org/simple, https://us-python.pkg.dev/colab-wheels/public/simple/\n",
            "Collecting tensorflow_addons\n",
            "  Downloading tensorflow_addons-0.19.0-cp38-cp38-manylinux_2_17_x86_64.manylinux2014_x86_64.whl (1.1 MB)\n",
            "\u001b[2K     \u001b[90m━━━━━━━━━━━━━━━━━━━━━━━━━━━━━━━━━━━━━━━━\u001b[0m \u001b[32m1.1/1.1 MB\u001b[0m \u001b[31m29.8 MB/s\u001b[0m eta \u001b[36m0:00:00\u001b[0m\n",
            "\u001b[?25hRequirement already satisfied: packaging in /usr/local/lib/python3.8/dist-packages (from tensorflow_addons) (23.0)\n",
            "Requirement already satisfied: typeguard>=2.7 in /usr/local/lib/python3.8/dist-packages (from tensorflow_addons) (2.7.1)\n",
            "Installing collected packages: tensorflow_addons\n",
            "Successfully installed tensorflow_addons-0.19.0\n"
          ]
        }
      ],
      "source": [
        "pip install tensorflow_addons"
      ]
    },
    {
      "cell_type": "code",
      "execution_count": null,
      "metadata": {
        "id": "qEANAPUULpHA",
        "vscode": {
          "languageId": "python"
        }
      },
      "outputs": [],
      "source": [
        "def load_train_test_split(dataset_path=''):\n",
        "    train_images = []\n",
        "    test_images = []\n",
        "    with open(os.path.join(dataset_path, 'train_test_split.txt')) as f:\n",
        "        for line in f:\n",
        "            pieces = line.strip().split()\n",
        "            image_id = pieces[0]\n",
        "            is_train = int(pieces[1])\n",
        "            if is_train:\n",
        "                train_images.append(image_id)\n",
        "            else:\n",
        "                test_images.append(image_id)\n",
        "    return train_images, test_images\n",
        "\n",
        "def load_class_names(dataset_path=''):\n",
        "    names = {}\n",
        "    with open(os.path.join(dataset_path, 'classes.txt')) as f:\n",
        "        for line in f:\n",
        "            pieces = line.strip().split()\n",
        "            class_id = pieces[0]\n",
        "            names[class_id] = ' '.join(pieces[1:])\n",
        "    return names\n",
        "\n",
        "def load_image_labels(dataset_path=''):\n",
        "    labels = {}\n",
        "    with open(os.path.join(dataset_path, 'image_class_labels.txt')) as f:\n",
        "        for line in f:\n",
        "            pieces = line.strip().split()\n",
        "            image_id = pieces[0]\n",
        "            class_id = pieces[1]\n",
        "            labels[image_id] = class_id\n",
        "    return labels\n",
        "        \n",
        "def load_image_paths(dataset_path='', path_prefix=''):\n",
        "    paths = {}\n",
        "    with open(os.path.join(dataset_path, 'images.txt')) as f:\n",
        "        for line in f:\n",
        "            pieces = line.strip().split()\n",
        "            image_id = pieces[0]\n",
        "            path = os.path.join(path_prefix, pieces[1])\n",
        "            paths[image_id] = path\n",
        "    return paths"
      ]
    },
    {
      "cell_type": "code",
      "execution_count": null,
      "metadata": {
        "id": "2yfJkmnbPto3",
        "vscode": {
          "languageId": "python"
        }
      },
      "outputs": [],
      "source": [
        "root_data_dir = '/data/CUB_200_2011'\n",
        "old_images_dir = 'images'\n",
        "new_images_dir = 'images_sorted'"
      ]
    },
    {
      "cell_type": "code",
      "execution_count": null,
      "metadata": {
        "id": "bmElcQ7HQQB2",
        "vscode": {
          "languageId": "python"
        }
      },
      "outputs": [],
      "source": [
        "train, test = load_train_test_split(dataset_path=root_data_dir)\n",
        "labels = load_image_labels(dataset_path=root_data_dir)\n",
        "image_paths = load_image_paths(dataset_path=root_data_dir)"
      ]
    },
    {
      "cell_type": "code",
      "execution_count": null,
      "metadata": {
        "id": "QmJDnF3sQ6c2",
        "vscode": {
          "languageId": "python"
        }
      },
      "outputs": [],
      "source": [
        "images_train_dir = os.path.join(root_data_dir,new_images_dir,'train')\n",
        "images_test_dir = os.path.join(root_data_dir,new_images_dir,'test')\n",
        "\n",
        "os.makedirs(os.path.join(root_data_dir,new_images_dir), exist_ok=True)\n",
        "os.makedirs(images_train_dir, exist_ok=True)\n",
        "os.makedirs(images_test_dir, exist_ok=True)"
      ]
    },
    {
      "cell_type": "code",
      "execution_count": null,
      "metadata": {
        "id": "QyP7PpR0RDrN",
        "vscode": {
          "languageId": "python"
        }
      },
      "outputs": [],
      "source": [
        "for image in train:\n",
        "    new_dir = os.path.join(images_train_dir,image_paths[image].split('/')[0])\n",
        "    old_path_image = os.path.join(root_data_dir,old_images_dir,image_paths[image])\n",
        "    new_path_image = os.path.join(images_train_dir,image_paths[image])\n",
        "    os.makedirs(new_dir, exist_ok=True)\n",
        "    #os.symlink(old_path_image, new_path_image)\n",
        "    shutil.move(old_path_image, new_path_image)"
      ]
    },
    {
      "cell_type": "code",
      "execution_count": null,
      "metadata": {
        "id": "9woe3BnGRtfO",
        "vscode": {
          "languageId": "python"
        }
      },
      "outputs": [],
      "source": [
        "for image in test:\n",
        "    new_dir = os.path.join(images_test_dir,image_paths[image].split('/')[0])\n",
        "    old_path_image = os.path.join(root_data_dir,old_images_dir,image_paths[image])\n",
        "    new_path_image = os.path.join(images_test_dir,image_paths[image])\n",
        "    os.makedirs(new_dir, exist_ok=True)\n",
        "    #os.symlink(old_path_image, new_path_image)\n",
        "    shutil.move(old_path_image, new_path_image)"
      ]
    },
    {
      "cell_type": "code",
      "execution_count": null,
      "metadata": {
        "colab": {
          "base_uri": "https://localhost:8080/"
        },
        "id": "GDj848TP4Sfy",
        "outputId": "d1266f4c-2505-484b-94f6-c4638a469c58",
        "vscode": {
          "languageId": "python"
        }
      },
      "outputs": [
        {
          "name": "stdout",
          "output_type": "stream",
          "text": [
            "Found 5400 images belonging to 200 classes.\n",
            "Found 594 images belonging to 200 classes.\n",
            "Found 5794 images belonging to 200 classes.\n"
          ]
        }
      ],
      "source": [
        "from tensorflow.keras.preprocessing.image import ImageDataGenerator\n",
        "train_datagen = ImageDataGenerator(rescale=1./255,\n",
        "    shear_range=0.2,\n",
        "    zoom_range=0.2,\n",
        "    rotation_range=24,\n",
        "    height_shift_range=0.1,\n",
        "    width_shift_range=0.1,\n",
        "    horizontal_flip=True,\n",
        "    validation_split=0.1,\n",
        "    fill_mode='nearest'\n",
        "    ) # set validation split\n",
        "\n",
        "train_generator = train_datagen.flow_from_directory(\n",
        "    '/data/CUB_200_2011/images_sorted/train',\n",
        "    target_size=(224, 224),\n",
        "    batch_size=32,\n",
        "    class_mode='categorical',\n",
        "    subset='training') # set as training data\n",
        "\n",
        "validation_generator = train_datagen.flow_from_directory(\n",
        "    '/data/CUB_200_2011/images_sorted/train', # same directory as training data\n",
        "    target_size=(224, 224),\n",
        "    batch_size=32,\n",
        "    class_mode='categorical',\n",
        "    subset='validation') # set as validation data\n",
        "test_datagen = ImageDataGenerator(rescale=1./255)\n",
        "test_generator=test_datagen.flow_from_directory('/data/CUB_200_2011/images_sorted/test',\n",
        "                                                target_size=(224, 224),batch_size=64,class_mode='categorical',shuffle=0,color_mode='rgb')    \n"
      ]
    },
    {
      "cell_type": "code",
      "execution_count": null,
      "metadata": {
        "id": "KSdy4Ird4qM6",
        "vscode": {
          "languageId": "python"
        }
      },
      "outputs": [],
      "source": [
        "import pandas as pd\n",
        "bird_class=pd.DataFrame(train_generator.class_indices.items(),columns=['b_class','index'])\n",
        "k=[]\n",
        "for i in range(0,199):\n",
        " c=bird_class['b_class'].iloc[i].split('.')[1]\n",
        " k.append(c)"
      ]
    },
    {
      "cell_type": "code",
      "execution_count": null,
      "metadata": {
        "id": "-xZnth1oUIUd",
        "vscode": {
          "languageId": "python"
        }
      },
      "outputs": [],
      "source": [
        "x_train,y_train=train_generator.next()\n",
        "x_test,y_test=test_generator.next()"
      ]
    },
    {
      "cell_type": "code",
      "execution_count": null,
      "metadata": {
        "id": "3-XQpne15uH-",
        "vscode": {
          "languageId": "python"
        }
      },
      "outputs": [],
      "source": [
        "import numpy as np\n",
        "vis_y_train=np.argmax(y_train,axis=1)"
      ]
    },
    {
      "cell_type": "code",
      "execution_count": null,
      "metadata": {
        "colab": {
          "base_uri": "https://localhost:8080/",
          "height": 236
        },
        "id": "L9DHVccy2RdT",
        "outputId": "c9b1cae5-94fd-4b4b-9e50-8091b2eb8753",
        "vscode": {
          "languageId": "python"
        }
      },
      "outputs": [
        {
          "name": "stdout",
          "output_type": "stream",
          "text": [
            "CIFAR-10 Dataset!\n"
          ]
        },
        {
          "data": {
            "image/png": "[encoded data removed]",
            "text/plain": [
              "<Figure size 432x288 with 10 Axes>"
            ]
          },
          "metadata": {},
          "output_type": "display_data"
        }
      ],
      "source": [
        "# Required imports:\n",
        "import matplotlib.pyplot as plt\n",
        "\n",
        "# Loading the dataset:\n",
        "print('CIFAR-10 Dataset!')\n",
        "\n",
        "class_names = k\n",
        "\n",
        "# -----------------------------\n",
        "# This function will display the first 16 images of the dataset with their labels:\n",
        "def visualize_data(train_X, train_Y, class_names):\n",
        "\n",
        "  for i in range(10):\n",
        "    # create subplot:\n",
        "    plt.subplot(4, 4, i+1)\n",
        "    plt.xticks([])\n",
        "    plt.yticks([])\n",
        "    # plot image with the class name on the x-axis:\n",
        "    plt.imshow(train_X[i])\n",
        "    plt.xlabel(class_names[int(vis_y_train[i].item())])\n",
        "\n",
        "  # adjust the subplots and show the first 16 images:\n",
        "  plt.subplots_adjust(left=0.125,bottom=0.1, right=0.9, top=0.9, wspace=0.2, hspace=0.35)\n",
        "  plt.show()\n",
        "# -----------------------------\n",
        "\n",
        "# Displaying the first sixteen images within the dataset:\n",
        "visualize_data(x_train, y_train, class_names)\n"
      ]
    },
    {
      "cell_type": "code",
      "execution_count": null,
      "metadata": {
        "colab": {
          "base_uri": "https://localhost:8080/"
        },
        "id": "f2qiRCTTLdpM",
        "outputId": "29fb5668-4832-49b6-a149-679e40f3bf5e",
        "vscode": {
          "languageId": "python"
        }
      },
      "outputs": [
        {
          "name": "stdout",
          "output_type": "stream",
          "text": [
            "Keras version: 2.11.0\n",
            "Num GPUs Available:  1\n"
          ]
        }
      ],
      "source": [
        "import matplotlib.pyplot as plt\n",
        "from tensorflow.keras.callbacks import Callback\n",
        "from tensorflow.keras.models import save_model\n",
        "from tensorflow.keras.datasets import cifar10\n",
        "from tensorflow.keras.utils import to_categorical\n",
        "from tensorflow.keras.models import Sequential\n",
        "from tensorflow.keras.layers import Conv2D\n",
        "from tensorflow.keras.layers import MaxPooling2D\n",
        "from tensorflow.keras.layers import Dense\n",
        "from tensorflow.keras.layers import Flatten\n",
        "from tensorflow.keras.layers import GlobalAveragePooling2D\n",
        "from tensorflow.keras.optimizers import SGD,Adam\n",
        "from tensorflow import keras\n",
        "import tensorflow as tf\n",
        "\n",
        "print('Keras version:', keras.__version__)\n",
        "print(\"Num GPUs Available: \", len(tf.config.experimental.list_physical_devices('GPU')))"
      ]
    },
    {
      "cell_type": "markdown",
      "metadata": {
        "id": "IDBCjcmWbxzv"
      },
      "source": [
        "We will also define a function responsible for plotting the curves:"
      ]
    },
    {
      "cell_type": "code",
      "execution_count": null,
      "metadata": {
        "colab": {
          "base_uri": "https://localhost:8080/"
        },
        "id": "8rnUNcFYb5iM",
        "outputId": "e7c26574-be29-4fc4-adb6-883cba4b0b5f",
        "vscode": {
          "languageId": "python"
        }
      },
      "outputs": [
        {
          "name": "stdout",
          "output_type": "stream",
          "text": [
            "Done!\n"
          ]
        }
      ],
      "source": [
        "# Function used to plot the curves for loss and accuracy:\n",
        "def plot_curves(history):\n",
        "\n",
        "  # Plotting the loss curve:\n",
        "  plt.subplot(211)\n",
        "  plt.title('Cross Entropy')\n",
        "  plt.ylabel('loss')\n",
        "  plt.xlabel('epoch')\n",
        "  # Plotting the training loss (blue):\n",
        "  plt.plot(history.history['loss'], color='blue', label='train')\n",
        "  # Plotting the test loss (red):\n",
        "  plt.plot(history.history['val_loss'], color='red', label='test')\n",
        "  # Legend for the plot:\n",
        "  plt.legend(['train', 'test'], loc='upper left')\n",
        "\n",
        "  # Plotting the accuracy curve:\n",
        "  plt.subplot(212)\n",
        "  plt.title('Classification Accuracy')\n",
        "  plt.ylabel('accuracy')\n",
        "  plt.xlabel('epoch')\n",
        "  # Plotting the training accuracy (blue):\n",
        "  plt.plot(history.history['accuracy'], color='blue', label='train')\n",
        "  # Plotting the test accuracy (red):\n",
        "  plt.plot(history.history['val_accuracy'], color='red', label='test')\n",
        "  # Legend for the plot:\n",
        "  plt.legend(['train', 'test'], loc='upper left')\n",
        "\n",
        "  plt.subplots_adjust(top=3)\n",
        "  plt.show()\n",
        "\n",
        "print('Done!')"
      ]
    },
    {
      "cell_type": "markdown",
      "metadata": {
        "id": "V6TnX_H7Sgt4"
      },
      "source": [
        "Now, we are ready to define our classification model. To enable experimenting on several networks, in the following, we add support for selecting what architecture we are going to use. \n"
      ]
    },
    {
      "cell_type": "code",
      "execution_count": null,
      "metadata": {
        "colab": {
          "base_uri": "https://localhost:8080/"
        },
        "id": "tBal6PxRRpv5",
        "outputId": "f1849184-c76a-454b-9948-e98e49f827b6",
        "vscode": {
          "languageId": "python"
        }
      },
      "outputs": [
        {
          "name": "stdout",
          "output_type": "stream",
          "text": [
            "The following network architectures are available:  ['mobilenet', 'resnet50', 'vgg16', 'vgg19', 'densenet121', 'InceptionV3']\n",
            "Selected network: InceptionV3\n"
          ]
        }
      ],
      "source": [
        "# These networks are supported:\n",
        "network_names = [ 'mobilenet', 'resnet50', 'vgg16', 'vgg19', 'densenet121','InceptionV3' ]\n",
        "\n",
        "print(\"The following network architectures are available: \", network_names)\n",
        "\n",
        "####################################\n",
        "# The network id is selected here: #\n",
        "network_id = 5\n",
        "####################################\n",
        "\n",
        "selected_network = network_names[network_id]\n",
        "print(f\"Selected network: {selected_network}\")"
      ]
    },
    {
      "cell_type": "code",
      "execution_count": null,
      "metadata": {
        "colab": {
          "base_uri": "https://localhost:8080/"
        },
        "id": "yA3x4-5JSmaw",
        "outputId": "aa772a37-8df5-465e-f67a-c06adeff54d2",
        "vscode": {
          "languageId": "python"
        }
      },
      "outputs": [
        {
          "name": "stdout",
          "output_type": "stream",
          "text": [
            "Done!\n"
          ]
        }
      ],
      "source": [
        "from keras.layers.regularization.dropout import Dropout\n",
        "from keras.layers.serialization import activation\n",
        "# Importing the models:\n",
        "import tensorflow as tf\n",
        "from tensorflow.keras.models import Model\n",
        "from tensorflow.keras.applications.mobilenet import MobileNet \n",
        "from tensorflow.keras.applications.vgg16 import VGG16\n",
        "from tensorflow.keras.applications.vgg19 import VGG19\n",
        "from tensorflow.keras.applications.densenet import DenseNet121\n",
        "from tensorflow.keras.applications.resnet50 import ResNet50\n",
        "from keras.applications.inception_v3 import InceptionV3\n",
        "\n",
        "# This function defines our classification network:\n",
        "def create_model(selected_network):\n",
        "\n",
        "  # The model is selected amongst the supported architectures:\n",
        "  model_name = {\n",
        "    'mobilenet'   : MobileNet,\n",
        "    'resnet50'    : ResNet50,\n",
        "    'vgg16'       : VGG16,\n",
        "    'vgg19'       : VGG19,\n",
        "    'densenet121' : DenseNet121,\n",
        "    'InceptionV3' : InceptionV3\n",
        "  }[selected_network]\n",
        "\n",
        "  base_model = model_name(input_shape=(224,224,3), weights='imagenet', include_top=False)\n",
        "  '''x = base_model.output\n",
        "  #x = keras.layers.Flatten()(x)\n",
        "  x = GlobalAveragePooling2D()(x)\n",
        "  #x= tf.keras.layers.Dropout(0.5)(x)\n",
        "  output = keras.layers.Dense(200, activation='softmax')(x)\n",
        "  model = keras.models.Model(inputs=[base_model.input], outputs=[output])'''\n",
        "  model=Sequential()\n",
        "  model.add(base_model)\n",
        "  model.add(GlobalAveragePooling2D())\n",
        "  model.add(Dropout(0.8))\n",
        "  model.add(Dense(128, activation='relu'))\n",
        "  model.add(Dense(200,activation='softmax'))\n",
        "\n",
        "  # The optimiser is stochastic gradient descent with a learning rate of 0.01 and a momentum of 0.9:\n",
        "  optim = Adam(learning_rate=0.00001)\n",
        "  base_model.trainable = True\n",
        "  print(\"Number of layers in the base model: \", len(base_model.layers))\n",
        "\n",
        "  # Fine-tune from this layer onwards\n",
        "  #fine_tune_at = 82\n",
        "\n",
        "  # Freeze all the layers before the `fine_tune_at` layer\n",
        "  #for layer in base_model.layers[:fine_tune_at]:\n",
        "  # layer.trainable = False\n",
        "\n",
        "  # The model optimises cross entropy as its loss function and will monitor classification accuracy:\n",
        "  model.compile(optimizer=optim, loss='categorical_crossentropy', metrics=['accuracy'])\n",
        "  # Printing model summary:\n",
        "  print(model.summary())\n",
        "\n",
        "  return model\n",
        "\n",
        "print('Done!')"
      ]
    },
    {
      "cell_type": "code",
      "execution_count": null,
      "metadata": {
        "colab": {
          "base_uri": "https://localhost:8080/"
        },
        "id": "Q2bH8teBfmq9",
        "outputId": "18f313b5-45a5-4bf5-c716-28798f16f53b",
        "vscode": {
          "languageId": "python"
        }
      },
      "outputs": [
        {
          "name": "stdout",
          "output_type": "stream",
          "text": [
            "A local file was found, but it seems to be incomplete or outdated because the auto file hash does not match the original value of bcbd6486424b2319ff4ef7d526e38f63 so we will re-download the data.\n",
            "Downloading data from https://storage.googleapis.com/tensorflow/keras-applications/inception_v3/inception_v3_weights_tf_dim_ordering_tf_kernels_notop.h5\n",
            "87910968/87910968 [==============================] - 5s 0us/step\n",
            "Number of layers in the base model:  311\n",
            "Model: \"sequential\"\n",
            "_________________________________________________________________\n",
            " Layer (type)                Output Shape              Param #   \n",
            "=================================================================\n",
            " inception_v3 (Functional)   (None, 5, 5, 2048)        21802784  \n",
            "                                                                 \n",
            " global_average_pooling2d (G  (None, 2048)             0         \n",
            " lobalAveragePooling2D)                                          \n",
            "                                                                 \n",
            " dropout (Dropout)           (None, 2048)              0         \n",
            "                                                                 \n",
            " dense (Dense)               (None, 128)               262272    \n",
            "                                                                 \n",
            " dense_1 (Dense)             (None, 200)               25800     \n",
            "                                                                 \n",
            "=================================================================\n",
            "Total params: 22,090,856\n",
            "Trainable params: 22,056,424\n",
            "Non-trainable params: 34,432\n",
            "_________________________________________________________________\n",
            "None\n"
          ]
        }
      ],
      "source": [
        "model = create_model(selected_network)"
      ]
    },
    {
      "cell_type": "code",
      "execution_count": null,
      "metadata": {
        "id": "zSRG3kuBY_Ub",
        "vscode": {
          "languageId": "python"
        }
      },
      "outputs": [],
      "source": [
        "'''checkpoint_path = \"/content/gdrive/MyDrive/birds_check_points/model.{epoch:02d}-{val_accuracy:.2f}.h5\" #you can uncomment this and pass this varibale in fit() to generate model after each epochs\n",
        "checkpoint_callback = keras.callbacks.ModelCheckpoint(filepath=checkpoint_path,  \n",
        "                                                      verbose=1)''' "
      ]
    },
    {
      "cell_type": "code",
      "execution_count": null,
      "metadata": {
        "id": "4CHxRjfuwdBe",
        "vscode": {
          "languageId": "python"
        }
      },
      "outputs": [],
      "source": [
        "#for saving the model once it reaches certain accuracy\n",
        "class SaveModelOnAccuracy(Callback):\n",
        "    def __init__(self, save_path, monitor='val_accuracy', target_accuracy=0.95):\n",
        "        super(SaveModelOnAccuracy, self).__init__()\n",
        "        self.save_path = save_path\n",
        "        self.monitor = monitor\n",
        "        self.target_accuracy = target_accuracy\n",
        "\n",
        "    def on_epoch_end(self, epoch, logs=None):\n",
        "        current_accuracy = logs.get(self.monitor)\n",
        "        if current_accuracy is not None and current_accuracy >= self.target_accuracy:\n",
        "            print(f\"\\nReached {self.target_accuracy:.2f}% validation accuracy, saving model...\")\n",
        "            save_model(self.model, self.save_path)"
      ]
    },
    {
      "cell_type": "code",
      "execution_count": null,
      "metadata": {
        "id": "K2dYNX3L8Kb4",
        "vscode": {
          "languageId": "python"
        }
      },
      "outputs": [],
      "source": [
        "#model=keras.models.load_model('/content/gdrive/MyDrive/birds_check_points/model.{epoch_02d}-{val_accuracy_.2f}.h5') #use the code for training from the check points. "
      ]
    },
    {
      "cell_type": "code",
      "execution_count": null,
      "metadata": {
        "colab": {
          "base_uri": "https://localhost:8080/"
        },
        "id": "z_IbTbxG5LzN",
        "outputId": "2eeb9280-7e6e-420a-ad29-d0abbff0ed61",
        "vscode": {
          "languageId": "python"
        }
      },
      "outputs": [
        {
          "name": "stdout",
          "output_type": "stream",
          "text": [
            "Epoch 1/250\n",
            "85/85 [==============================] - 91s 528ms/step - loss: 5.5978 - accuracy: 0.0044 - val_loss: 5.3688 - val_accuracy: 0.0031\n",
            "Epoch 2/250\n",
            "85/85 [==============================] - 44s 511ms/step - loss: 5.4839 - accuracy: 0.0033 - val_loss: 5.3066 - val_accuracy: 0.0063\n",
            "Epoch 3/250\n",
            "85/85 [==============================] - 46s 534ms/step - loss: 5.4218 - accuracy: 0.0059 - val_loss: 5.2960 - val_accuracy: 0.0063\n",
            "Epoch 4/250\n",
            "85/85 [==============================] - 43s 508ms/step - loss: 5.3697 - accuracy: 0.0037 - val_loss: 5.2707 - val_accuracy: 0.0156\n",
            "Epoch 5/250\n",
            "85/85 [==============================] - 43s 506ms/step - loss: 5.3319 - accuracy: 0.0052 - val_loss: 5.2866 - val_accuracy: 0.0125\n",
            "Epoch 6/250\n",
            "85/85 [==============================] - 43s 507ms/step - loss: 5.3155 - accuracy: 0.0074 - val_loss: 5.2837 - val_accuracy: 0.0094\n",
            "Epoch 7/250\n",
            "85/85 [==============================] - 44s 512ms/step - loss: 5.3068 - accuracy: 0.0099 - val_loss: 5.2851 - val_accuracy: 0.0188\n",
            "Epoch 8/250\n",
            "85/85 [==============================] - 44s 510ms/step - loss: 5.3095 - accuracy: 0.0048 - val_loss: 5.2818 - val_accuracy: 0.0063\n",
            "Epoch 9/250\n",
            "85/85 [==============================] - 43s 507ms/step - loss: 5.2945 - accuracy: 0.0044 - val_loss: 5.2768 - val_accuracy: 0.0063\n",
            "Epoch 10/250\n",
            "85/85 [==============================] - 44s 510ms/step - loss: 5.2953 - accuracy: 0.0088 - val_loss: 5.2820 - val_accuracy: 0.0094\n",
            "Epoch 11/250\n",
            "85/85 [==============================] - 43s 508ms/step - loss: 5.2926 - accuracy: 0.0077 - val_loss: 5.2671 - val_accuracy: 0.0125\n",
            "Epoch 12/250\n",
            "85/85 [==============================] - 43s 505ms/step - loss: 5.2893 - accuracy: 0.0063 - val_loss: 5.2706 - val_accuracy: 0.0125\n",
            "Epoch 13/250\n",
            "85/85 [==============================] - 43s 506ms/step - loss: 5.2800 - accuracy: 0.0085 - val_loss: 5.2621 - val_accuracy: 0.0219\n",
            "Epoch 14/250\n",
            "85/85 [==============================] - 43s 507ms/step - loss: 5.2762 - accuracy: 0.0081 - val_loss: 5.2612 - val_accuracy: 0.0219\n",
            "Epoch 15/250\n",
            "85/85 [==============================] - 44s 510ms/step - loss: 5.2616 - accuracy: 0.0107 - val_loss: 5.2525 - val_accuracy: 0.0156\n",
            "Epoch 16/250\n",
            "85/85 [==============================] - 43s 501ms/step - loss: 5.2645 - accuracy: 0.0077 - val_loss: 5.2429 - val_accuracy: 0.0250\n",
            "Epoch 17/250\n",
            "85/85 [==============================] - 43s 498ms/step - loss: 5.2557 - accuracy: 0.0114 - val_loss: 5.2185 - val_accuracy: 0.0437\n",
            "Epoch 18/250\n",
            "85/85 [==============================] - 42s 493ms/step - loss: 5.2280 - accuracy: 0.0144 - val_loss: 5.2062 - val_accuracy: 0.0500\n",
            "Epoch 19/250\n",
            "85/85 [==============================] - 43s 500ms/step - loss: 5.2258 - accuracy: 0.0147 - val_loss: 5.1917 - val_accuracy: 0.0375\n",
            "Epoch 20/250\n",
            "85/85 [==============================] - 42s 495ms/step - loss: 5.2045 - accuracy: 0.0147 - val_loss: 5.1481 - val_accuracy: 0.0500\n",
            "Epoch 21/250\n",
            "85/85 [==============================] - 43s 499ms/step - loss: 5.1859 - accuracy: 0.0184 - val_loss: 5.1082 - val_accuracy: 0.0688\n",
            "Epoch 22/250\n",
            "85/85 [==============================] - 43s 504ms/step - loss: 5.1587 - accuracy: 0.0181 - val_loss: 5.0978 - val_accuracy: 0.0469\n",
            "Epoch 23/250\n",
            "85/85 [==============================] - 43s 502ms/step - loss: 5.1357 - accuracy: 0.0246 - val_loss: 5.0566 - val_accuracy: 0.0719\n",
            "Epoch 24/250\n",
            "85/85 [==============================] - 43s 509ms/step - loss: 5.1141 - accuracy: 0.0258 - val_loss: 4.9768 - val_accuracy: 0.0875\n",
            "Epoch 25/250\n",
            "85/85 [==============================] - 44s 511ms/step - loss: 5.0516 - accuracy: 0.0268 - val_loss: 4.9269 - val_accuracy: 0.0688\n",
            "Epoch 26/250\n",
            "85/85 [==============================] - 43s 504ms/step - loss: 5.0336 - accuracy: 0.0306 - val_loss: 4.8916 - val_accuracy: 0.0938\n",
            "Epoch 27/250\n",
            "85/85 [==============================] - 42s 496ms/step - loss: 4.9890 - accuracy: 0.0409 - val_loss: 4.8590 - val_accuracy: 0.0969\n",
            "Epoch 28/250\n",
            "85/85 [==============================] - 42s 496ms/step - loss: 4.9569 - accuracy: 0.0398 - val_loss: 4.7809 - val_accuracy: 0.1250\n",
            "Epoch 29/250\n",
            "85/85 [==============================] - 43s 501ms/step - loss: 4.9099 - accuracy: 0.0474 - val_loss: 4.7105 - val_accuracy: 0.1250\n",
            "Epoch 30/250\n",
            "85/85 [==============================] - 43s 500ms/step - loss: 4.8838 - accuracy: 0.0531 - val_loss: 4.6406 - val_accuracy: 0.1375\n",
            "Epoch 31/250\n",
            "85/85 [==============================] - 42s 496ms/step - loss: 4.8101 - accuracy: 0.0605 - val_loss: 4.6717 - val_accuracy: 0.1156\n",
            "Epoch 32/250\n",
            "85/85 [==============================] - 43s 499ms/step - loss: 4.7818 - accuracy: 0.0590 - val_loss: 4.6033 - val_accuracy: 0.1437\n",
            "Epoch 33/250\n",
            "85/85 [==============================] - 43s 499ms/step - loss: 4.7548 - accuracy: 0.0649 - val_loss: 4.5584 - val_accuracy: 0.1281\n",
            "Epoch 34/250\n",
            "85/85 [==============================] - 43s 498ms/step - loss: 4.6596 - accuracy: 0.0741 - val_loss: 4.4482 - val_accuracy: 0.1656\n",
            "Epoch 35/250\n",
            "85/85 [==============================] - 42s 494ms/step - loss: 4.6189 - accuracy: 0.0926 - val_loss: 4.3868 - val_accuracy: 0.1781\n",
            "Epoch 36/250\n",
            "85/85 [==============================] - 43s 503ms/step - loss: 4.5933 - accuracy: 0.0874 - val_loss: 4.2852 - val_accuracy: 0.1719\n",
            "Epoch 37/250\n",
            "85/85 [==============================] - 42s 496ms/step - loss: 4.5067 - accuracy: 0.1040 - val_loss: 4.1931 - val_accuracy: 0.2000\n",
            "Epoch 38/250\n",
            "85/85 [==============================] - 42s 495ms/step - loss: 4.4700 - accuracy: 0.0955 - val_loss: 4.0999 - val_accuracy: 0.2031\n",
            "Epoch 39/250\n",
            "85/85 [==============================] - 43s 503ms/step - loss: 4.4206 - accuracy: 0.1158 - val_loss: 4.0992 - val_accuracy: 0.2156\n",
            "Epoch 40/250\n",
            "85/85 [==============================] - 44s 518ms/step - loss: 4.3633 - accuracy: 0.1180 - val_loss: 4.0373 - val_accuracy: 0.2062\n",
            "Epoch 41/250\n",
            "85/85 [==============================] - 43s 508ms/step - loss: 4.3059 - accuracy: 0.1294 - val_loss: 3.9701 - val_accuracy: 0.2344\n",
            "Epoch 42/250\n",
            "85/85 [==============================] - 44s 511ms/step - loss: 4.2698 - accuracy: 0.1360 - val_loss: 3.9079 - val_accuracy: 0.2500\n",
            "Epoch 43/250\n",
            "85/85 [==============================] - 43s 503ms/step - loss: 4.1957 - accuracy: 0.1475 - val_loss: 3.8224 - val_accuracy: 0.2406\n",
            "Epoch 44/250\n",
            "85/85 [==============================] - 43s 505ms/step - loss: 4.1168 - accuracy: 0.1541 - val_loss: 3.8399 - val_accuracy: 0.2531\n",
            "Epoch 45/250\n",
            "85/85 [==============================] - 43s 505ms/step - loss: 4.0866 - accuracy: 0.1603 - val_loss: 3.7649 - val_accuracy: 0.2844\n",
            "Epoch 46/250\n",
            "85/85 [==============================] - 43s 500ms/step - loss: 4.0419 - accuracy: 0.1707 - val_loss: 3.7522 - val_accuracy: 0.2406\n",
            "Epoch 47/250\n",
            "85/85 [==============================] - 44s 512ms/step - loss: 3.9714 - accuracy: 0.1888 - val_loss: 3.5594 - val_accuracy: 0.2812\n",
            "Epoch 48/250\n",
            "85/85 [==============================] - 44s 517ms/step - loss: 3.9020 - accuracy: 0.1958 - val_loss: 3.5793 - val_accuracy: 0.2719\n",
            "Epoch 49/250\n",
            "85/85 [==============================] - 43s 500ms/step - loss: 3.8781 - accuracy: 0.1910 - val_loss: 3.5623 - val_accuracy: 0.2656\n",
            "Epoch 50/250\n",
            "85/85 [==============================] - 43s 505ms/step - loss: 3.8240 - accuracy: 0.2140 - val_loss: 3.4890 - val_accuracy: 0.2812\n",
            "Epoch 51/250\n",
            "85/85 [==============================] - 43s 502ms/step - loss: 3.7224 - accuracy: 0.2272 - val_loss: 3.3285 - val_accuracy: 0.3313\n",
            "Epoch 52/250\n",
            "85/85 [==============================] - 43s 498ms/step - loss: 3.7339 - accuracy: 0.2257 - val_loss: 3.3131 - val_accuracy: 0.3625\n",
            "Epoch 53/250\n",
            "85/85 [==============================] - 43s 504ms/step - loss: 3.6785 - accuracy: 0.2320 - val_loss: 3.1680 - val_accuracy: 0.3406\n",
            "Epoch 54/250\n",
            "85/85 [==============================] - 43s 504ms/step - loss: 3.6342 - accuracy: 0.2456 - val_loss: 3.2119 - val_accuracy: 0.3562\n",
            "Epoch 55/250\n",
            "85/85 [==============================] - 43s 499ms/step - loss: 3.5976 - accuracy: 0.2463 - val_loss: 3.2544 - val_accuracy: 0.3250\n",
            "Epoch 56/250\n",
            "85/85 [==============================] - 43s 499ms/step - loss: 3.4804 - accuracy: 0.2757 - val_loss: 3.1161 - val_accuracy: 0.3562\n",
            "Epoch 57/250\n",
            "85/85 [==============================] - 43s 499ms/step - loss: 3.5128 - accuracy: 0.2507 - val_loss: 3.1259 - val_accuracy: 0.3438\n",
            "Epoch 58/250\n",
            "85/85 [==============================] - 43s 507ms/step - loss: 3.3885 - accuracy: 0.2798 - val_loss: 3.0256 - val_accuracy: 0.3469\n",
            "Epoch 59/250\n",
            "85/85 [==============================] - 43s 505ms/step - loss: 3.3693 - accuracy: 0.2887 - val_loss: 2.9598 - val_accuracy: 0.3656\n",
            "Epoch 60/250\n",
            "85/85 [==============================] - 44s 509ms/step - loss: 3.2778 - accuracy: 0.3044 - val_loss: 2.9904 - val_accuracy: 0.3750\n",
            "Epoch 61/250\n",
            "85/85 [==============================] - 43s 505ms/step - loss: 3.2075 - accuracy: 0.3331 - val_loss: 2.9097 - val_accuracy: 0.3844\n",
            "Epoch 62/250\n",
            "85/85 [==============================] - 43s 505ms/step - loss: 3.1935 - accuracy: 0.3352 - val_loss: 2.7535 - val_accuracy: 0.4250\n",
            "Epoch 63/250\n",
            "85/85 [==============================] - 43s 502ms/step - loss: 3.0951 - accuracy: 0.3540 - val_loss: 2.7656 - val_accuracy: 0.4062\n",
            "Epoch 64/250\n",
            "85/85 [==============================] - 43s 502ms/step - loss: 3.1314 - accuracy: 0.3367 - val_loss: 2.8357 - val_accuracy: 0.3844\n",
            "Epoch 65/250\n",
            "85/85 [==============================] - 43s 503ms/step - loss: 3.0243 - accuracy: 0.3706 - val_loss: 2.5108 - val_accuracy: 0.4688\n",
            "Epoch 66/250\n",
            "85/85 [==============================] - 43s 502ms/step - loss: 3.0267 - accuracy: 0.3673 - val_loss: 2.6789 - val_accuracy: 0.4281\n",
            "Epoch 67/250\n",
            "85/85 [==============================] - 43s 499ms/step - loss: 2.9643 - accuracy: 0.3772 - val_loss: 2.5116 - val_accuracy: 0.4688\n",
            "Epoch 68/250\n",
            "85/85 [==============================] - 42s 497ms/step - loss: 2.9075 - accuracy: 0.3820 - val_loss: 2.5460 - val_accuracy: 0.4812\n",
            "Epoch 69/250\n",
            "85/85 [==============================] - 42s 497ms/step - loss: 2.8812 - accuracy: 0.3879 - val_loss: 2.6568 - val_accuracy: 0.4344\n",
            "Epoch 70/250\n",
            "85/85 [==============================] - 43s 500ms/step - loss: 2.8183 - accuracy: 0.4029 - val_loss: 2.5432 - val_accuracy: 0.4688\n",
            "Epoch 71/250\n",
            "85/85 [==============================] - 43s 500ms/step - loss: 2.7870 - accuracy: 0.4001 - val_loss: 2.4809 - val_accuracy: 0.4500\n",
            "Epoch 72/250\n",
            "85/85 [==============================] - 43s 503ms/step - loss: 2.7474 - accuracy: 0.4129 - val_loss: 2.5415 - val_accuracy: 0.4500\n",
            "Epoch 73/250\n",
            "85/85 [==============================] - 43s 502ms/step - loss: 2.7028 - accuracy: 0.4189 - val_loss: 2.3455 - val_accuracy: 0.4938\n",
            "Epoch 74/250\n",
            "85/85 [==============================] - 43s 503ms/step - loss: 2.6740 - accuracy: 0.4176 - val_loss: 2.3451 - val_accuracy: 0.5188\n",
            "Epoch 75/250\n",
            "85/85 [==============================] - 43s 502ms/step - loss: 2.6287 - accuracy: 0.4344 - val_loss: 2.2546 - val_accuracy: 0.5094\n",
            "Epoch 76/250\n",
            "85/85 [==============================] - 43s 499ms/step - loss: 2.5882 - accuracy: 0.4491 - val_loss: 2.3072 - val_accuracy: 0.4906\n",
            "Epoch 77/250\n",
            "85/85 [==============================] - 43s 508ms/step - loss: 2.4721 - accuracy: 0.4651 - val_loss: 2.1554 - val_accuracy: 0.5063\n",
            "Epoch 78/250\n",
            "85/85 [==============================] - 43s 501ms/step - loss: 2.4962 - accuracy: 0.4540 - val_loss: 2.2856 - val_accuracy: 0.5125\n",
            "Epoch 79/250\n",
            "85/85 [==============================] - 43s 503ms/step - loss: 2.4494 - accuracy: 0.4566 - val_loss: 2.2201 - val_accuracy: 0.5031\n",
            "Epoch 80/250\n",
            "85/85 [==============================] - 43s 506ms/step - loss: 2.4010 - accuracy: 0.4882 - val_loss: 2.0837 - val_accuracy: 0.5469\n",
            "Epoch 81/250\n",
            "85/85 [==============================] - 43s 502ms/step - loss: 2.3479 - accuracy: 0.4882 - val_loss: 2.2503 - val_accuracy: 0.4812\n",
            "Epoch 82/250\n",
            "85/85 [==============================] - 42s 496ms/step - loss: 2.3322 - accuracy: 0.4908 - val_loss: 2.1548 - val_accuracy: 0.5437\n",
            "Epoch 83/250\n",
            "85/85 [==============================] - 43s 498ms/step - loss: 2.2592 - accuracy: 0.5022 - val_loss: 2.0587 - val_accuracy: 0.5188\n",
            "Epoch 84/250\n",
            "85/85 [==============================] - 43s 498ms/step - loss: 2.2701 - accuracy: 0.4934 - val_loss: 2.0684 - val_accuracy: 0.5281\n",
            "Epoch 85/250\n",
            "85/85 [==============================] - 43s 501ms/step - loss: 2.1550 - accuracy: 0.5430 - val_loss: 1.9375 - val_accuracy: 0.5531\n",
            "Epoch 86/250\n",
            "85/85 [==============================] - 43s 501ms/step - loss: 2.2321 - accuracy: 0.5166 - val_loss: 1.8848 - val_accuracy: 0.5719\n",
            "Epoch 87/250\n",
            "85/85 [==============================] - 44s 510ms/step - loss: 2.1120 - accuracy: 0.5339 - val_loss: 1.8959 - val_accuracy: 0.5500\n",
            "Epoch 88/250\n",
            "85/85 [==============================] - 43s 499ms/step - loss: 2.1009 - accuracy: 0.5365 - val_loss: 1.9712 - val_accuracy: 0.5531\n",
            "Epoch 89/250\n",
            "85/85 [==============================] - 43s 499ms/step - loss: 2.0206 - accuracy: 0.5592 - val_loss: 1.9555 - val_accuracy: 0.5344\n",
            "Epoch 90/250\n",
            "85/85 [==============================] - 42s 497ms/step - loss: 2.0100 - accuracy: 0.5501 - val_loss: 1.8161 - val_accuracy: 0.5688\n",
            "Epoch 91/250\n",
            "85/85 [==============================] - 43s 500ms/step - loss: 2.0013 - accuracy: 0.5537 - val_loss: 2.0173 - val_accuracy: 0.5219\n",
            "Epoch 92/250\n",
            "85/85 [==============================] - 43s 497ms/step - loss: 1.9445 - accuracy: 0.5596 - val_loss: 1.9058 - val_accuracy: 0.5875\n",
            "Epoch 93/250\n",
            "85/85 [==============================] - 42s 496ms/step - loss: 1.9458 - accuracy: 0.5702 - val_loss: 1.9038 - val_accuracy: 0.5344\n",
            "Epoch 94/250\n",
            "85/85 [==============================] - 42s 496ms/step - loss: 1.8829 - accuracy: 0.5734 - val_loss: 1.7986 - val_accuracy: 0.5781\n",
            "Epoch 95/250\n",
            "85/85 [==============================] - 42s 497ms/step - loss: 1.8345 - accuracy: 0.5985 - val_loss: 1.7014 - val_accuracy: 0.6250\n",
            "Epoch 96/250\n",
            "85/85 [==============================] - 43s 499ms/step - loss: 1.8624 - accuracy: 0.5706 - val_loss: 1.6523 - val_accuracy: 0.6125\n",
            "Epoch 97/250\n",
            "85/85 [==============================] - 42s 495ms/step - loss: 1.7840 - accuracy: 0.5941 - val_loss: 1.8476 - val_accuracy: 0.5500\n",
            "Epoch 98/250\n",
            "85/85 [==============================] - 43s 498ms/step - loss: 1.7152 - accuracy: 0.6099 - val_loss: 1.6778 - val_accuracy: 0.5656\n",
            "Epoch 99/250\n",
            "85/85 [==============================] - 42s 495ms/step - loss: 1.7005 - accuracy: 0.6162 - val_loss: 1.6772 - val_accuracy: 0.5688\n",
            "Epoch 100/250\n",
            "85/85 [==============================] - 42s 493ms/step - loss: 1.6800 - accuracy: 0.6243 - val_loss: 1.6253 - val_accuracy: 0.5719\n",
            "Epoch 101/250\n",
            "85/85 [==============================] - 42s 497ms/step - loss: 1.6459 - accuracy: 0.6232 - val_loss: 1.6152 - val_accuracy: 0.6031\n",
            "Epoch 102/250\n",
            "85/85 [==============================] - 42s 493ms/step - loss: 1.6437 - accuracy: 0.6235 - val_loss: 1.6707 - val_accuracy: 0.5875\n",
            "Epoch 103/250\n",
            "85/85 [==============================] - 42s 486ms/step - loss: 1.5919 - accuracy: 0.6519 - val_loss: 1.6382 - val_accuracy: 0.6125\n",
            "Epoch 104/250\n",
            "85/85 [==============================] - 41s 484ms/step - loss: 1.5822 - accuracy: 0.6412 - val_loss: 1.5168 - val_accuracy: 0.6156\n",
            "Epoch 105/250\n",
            "85/85 [==============================] - 42s 487ms/step - loss: 1.5274 - accuracy: 0.6670 - val_loss: 1.7460 - val_accuracy: 0.5500\n",
            "Epoch 106/250\n",
            "85/85 [==============================] - 42s 491ms/step - loss: 1.5409 - accuracy: 0.6471 - val_loss: 1.6571 - val_accuracy: 0.5813\n",
            "Epoch 107/250\n",
            "85/85 [==============================] - 41s 484ms/step - loss: 1.4746 - accuracy: 0.6652 - val_loss: 1.4700 - val_accuracy: 0.6562\n",
            "Epoch 108/250\n",
            "85/85 [==============================] - 42s 490ms/step - loss: 1.4691 - accuracy: 0.6597 - val_loss: 1.5127 - val_accuracy: 0.6219\n",
            "Epoch 109/250\n",
            "85/85 [==============================] - 42s 491ms/step - loss: 1.4601 - accuracy: 0.6670 - val_loss: 1.4863 - val_accuracy: 0.6562\n",
            "Epoch 110/250\n",
            "85/85 [==============================] - 42s 486ms/step - loss: 1.4131 - accuracy: 0.6707 - val_loss: 1.4148 - val_accuracy: 0.6438\n",
            "Epoch 111/250\n",
            "85/85 [==============================] - 42s 486ms/step - loss: 1.3819 - accuracy: 0.6768 - val_loss: 1.4156 - val_accuracy: 0.6406\n",
            "Epoch 112/250\n",
            "85/85 [==============================] - 42s 491ms/step - loss: 1.3496 - accuracy: 0.6881 - val_loss: 1.5179 - val_accuracy: 0.6125\n",
            "Epoch 113/250\n",
            "85/85 [==============================] - 41s 483ms/step - loss: 1.3297 - accuracy: 0.6963 - val_loss: 1.5828 - val_accuracy: 0.6125\n",
            "Epoch 114/250\n",
            "85/85 [==============================] - 42s 489ms/step - loss: 1.2567 - accuracy: 0.7074 - val_loss: 1.3679 - val_accuracy: 0.6625\n",
            "Epoch 115/250\n",
            "85/85 [==============================] - 42s 491ms/step - loss: 1.2364 - accuracy: 0.7217 - val_loss: 1.3346 - val_accuracy: 0.6469\n",
            "Epoch 116/250\n",
            "85/85 [==============================] - 42s 487ms/step - loss: 1.2912 - accuracy: 0.7011 - val_loss: 1.4642 - val_accuracy: 0.6156\n",
            "Epoch 117/250\n",
            "85/85 [==============================] - 42s 491ms/step - loss: 1.2366 - accuracy: 0.7105 - val_loss: 1.3718 - val_accuracy: 0.6469\n",
            "Epoch 118/250\n",
            "85/85 [==============================] - 42s 490ms/step - loss: 1.2168 - accuracy: 0.7164 - val_loss: 1.4350 - val_accuracy: 0.6500\n",
            "Epoch 119/250\n",
            "85/85 [==============================] - 42s 490ms/step - loss: 1.1551 - accuracy: 0.7312 - val_loss: 1.4187 - val_accuracy: 0.6438\n",
            "Epoch 120/250\n",
            "85/85 [==============================] - 42s 490ms/step - loss: 1.1811 - accuracy: 0.7290 - val_loss: 1.4501 - val_accuracy: 0.6438\n",
            "Epoch 121/250\n",
            "85/85 [==============================] - 42s 486ms/step - loss: 1.0993 - accuracy: 0.7448 - val_loss: 1.3836 - val_accuracy: 0.6375\n",
            "Epoch 122/250\n",
            "85/85 [==============================] - 42s 488ms/step - loss: 1.1126 - accuracy: 0.7449 - val_loss: 1.3664 - val_accuracy: 0.6438\n",
            "Epoch 123/250\n",
            "85/85 [==============================] - 42s 490ms/step - loss: 1.0743 - accuracy: 0.7415 - val_loss: 1.4201 - val_accuracy: 0.6500\n",
            "Epoch 124/250\n",
            "85/85 [==============================] - 42s 489ms/step - loss: 1.0344 - accuracy: 0.7676 - val_loss: 1.4077 - val_accuracy: 0.6344\n",
            "Epoch 125/250\n",
            "85/85 [==============================] - 42s 493ms/step - loss: 1.0308 - accuracy: 0.7588 - val_loss: 1.2760 - val_accuracy: 0.6656\n",
            "Epoch 126/250\n",
            "85/85 [==============================] - 42s 493ms/step - loss: 1.0293 - accuracy: 0.7607 - val_loss: 1.4037 - val_accuracy: 0.6687\n",
            "Epoch 127/250\n",
            "85/85 [==============================] - 42s 487ms/step - loss: 1.0022 - accuracy: 0.7618 - val_loss: 1.3165 - val_accuracy: 0.6594\n",
            "Epoch 128/250\n",
            "85/85 [==============================] - 42s 487ms/step - loss: 0.9829 - accuracy: 0.7762 - val_loss: 1.3779 - val_accuracy: 0.6187\n",
            "Epoch 129/250\n",
            "85/85 [==============================] - 42s 490ms/step - loss: 0.9569 - accuracy: 0.7847 - val_loss: 1.2693 - val_accuracy: 0.6781\n",
            "Epoch 130/250\n",
            "85/85 [==============================] - 42s 488ms/step - loss: 0.8998 - accuracy: 0.7956 - val_loss: 1.2038 - val_accuracy: 0.6875\n",
            "Epoch 131/250\n",
            "85/85 [==============================] - 42s 490ms/step - loss: 0.9073 - accuracy: 0.7897 - val_loss: 1.3181 - val_accuracy: 0.6562\n",
            "Epoch 132/250\n",
            "85/85 [==============================] - ETA: 0s - loss: 0.9233 - accuracy: 0.7858\n",
            "Reached 0.69% validation accuracy, saving model...\n",
            "85/85 [==============================] - 43s 502ms/step - loss: 0.9233 - accuracy: 0.7858 - val_loss: 1.1267 - val_accuracy: 0.7063\n",
            "Epoch 133/250\n",
            "85/85 [==============================] - 42s 495ms/step - loss: 0.8843 - accuracy: 0.7898 - val_loss: 1.3901 - val_accuracy: 0.6187\n",
            "Epoch 134/250\n",
            "85/85 [==============================] - ETA: 0s - loss: 0.8771 - accuracy: 0.7908\n",
            "Reached 0.69% validation accuracy, saving model...\n",
            "85/85 [==============================] - 45s 526ms/step - loss: 0.8771 - accuracy: 0.7908 - val_loss: 1.2317 - val_accuracy: 0.6906\n",
            "Epoch 135/250\n",
            "85/85 [==============================] - 43s 498ms/step - loss: 0.8562 - accuracy: 0.8038 - val_loss: 1.3789 - val_accuracy: 0.6531\n",
            "Epoch 136/250\n",
            "85/85 [==============================] - 42s 492ms/step - loss: 0.8406 - accuracy: 0.8096 - val_loss: 1.4019 - val_accuracy: 0.6187\n",
            "Epoch 137/250\n",
            "85/85 [==============================] - ETA: 0s - loss: 0.8108 - accuracy: 0.8261\n",
            "Reached 0.69% validation accuracy, saving model...\n",
            "85/85 [==============================] - 45s 525ms/step - loss: 0.8108 - accuracy: 0.8261 - val_loss: 1.2033 - val_accuracy: 0.7000\n",
            "Epoch 138/250\n",
            "85/85 [==============================] - 43s 505ms/step - loss: 0.8203 - accuracy: 0.8033 - val_loss: 1.2377 - val_accuracy: 0.6531\n",
            "Epoch 139/250\n",
            "85/85 [==============================] - 42s 495ms/step - loss: 0.7702 - accuracy: 0.8257 - val_loss: 1.2950 - val_accuracy: 0.6656\n",
            "Epoch 140/250\n",
            "85/85 [==============================] - ETA: 0s - loss: 0.7644 - accuracy: 0.8254\n",
            "Reached 0.69% validation accuracy, saving model...\n",
            "85/85 [==============================] - 45s 531ms/step - loss: 0.7644 - accuracy: 0.8254 - val_loss: 1.2144 - val_accuracy: 0.6906\n",
            "Epoch 141/250\n",
            "85/85 [==============================] - 43s 498ms/step - loss: 0.7286 - accuracy: 0.8308 - val_loss: 1.2990 - val_accuracy: 0.6812\n",
            "Epoch 142/250\n",
            "85/85 [==============================] - 42s 493ms/step - loss: 0.7388 - accuracy: 0.8260 - val_loss: 1.2614 - val_accuracy: 0.6656\n",
            "Epoch 143/250\n",
            "85/85 [==============================] - ETA: 0s - loss: 0.7123 - accuracy: 0.8326\n",
            "Reached 0.69% validation accuracy, saving model...\n",
            "85/85 [==============================] - 45s 530ms/step - loss: 0.7123 - accuracy: 0.8326 - val_loss: 1.1061 - val_accuracy: 0.6938\n",
            "Epoch 144/250\n",
            "85/85 [==============================] - 43s 498ms/step - loss: 0.7131 - accuracy: 0.8322 - val_loss: 1.2984 - val_accuracy: 0.6656\n",
            "Epoch 145/250\n",
            "85/85 [==============================] - 43s 502ms/step - loss: 0.6674 - accuracy: 0.8462 - val_loss: 1.1996 - val_accuracy: 0.6844\n",
            "Epoch 146/250\n",
            "85/85 [==============================] - ETA: 0s - loss: 0.6992 - accuracy: 0.8478\n",
            "Reached 0.69% validation accuracy, saving model...\n",
            "85/85 [==============================] - 46s 539ms/step - loss: 0.6992 - accuracy: 0.8478 - val_loss: 1.1979 - val_accuracy: 0.7219\n",
            "Epoch 147/250\n",
            "85/85 [==============================] - ETA: 0s - loss: 0.6728 - accuracy: 0.8444\n",
            "Reached 0.69% validation accuracy, saving model...\n",
            "85/85 [==============================] - 46s 539ms/step - loss: 0.6728 - accuracy: 0.8444 - val_loss: 1.1511 - val_accuracy: 0.7156\n",
            "Epoch 148/250\n",
            "85/85 [==============================] - 43s 508ms/step - loss: 0.6512 - accuracy: 0.8466 - val_loss: 1.2584 - val_accuracy: 0.6812\n",
            "Epoch 149/250\n",
            "85/85 [==============================] - ETA: 0s - loss: 0.6768 - accuracy: 0.8359\n",
            "Reached 0.69% validation accuracy, saving model...\n",
            "85/85 [==============================] - 45s 532ms/step - loss: 0.6768 - accuracy: 0.8359 - val_loss: 1.0948 - val_accuracy: 0.7094\n",
            "Epoch 150/250\n",
            "85/85 [==============================] - 43s 502ms/step - loss: 0.6438 - accuracy: 0.8473 - val_loss: 1.2610 - val_accuracy: 0.6406\n",
            "Epoch 151/250\n",
            "85/85 [==============================] - 43s 502ms/step - loss: 0.6120 - accuracy: 0.8629 - val_loss: 1.2080 - val_accuracy: 0.6594\n",
            "Epoch 152/250\n",
            "85/85 [==============================] - ETA: 0s - loss: 0.6103 - accuracy: 0.8628\n",
            "Reached 0.69% validation accuracy, saving model...\n",
            "85/85 [==============================] - 45s 533ms/step - loss: 0.6103 - accuracy: 0.8628 - val_loss: 1.2326 - val_accuracy: 0.6906\n",
            "Epoch 153/250\n",
            "85/85 [==============================] - ETA: 0s - loss: 0.5969 - accuracy: 0.8662\n",
            "Reached 0.69% validation accuracy, saving model...\n",
            "85/85 [==============================] - 46s 541ms/step - loss: 0.5969 - accuracy: 0.8662 - val_loss: 1.1633 - val_accuracy: 0.7219\n",
            "Epoch 154/250\n",
            "85/85 [==============================] - 43s 501ms/step - loss: 0.5835 - accuracy: 0.8647 - val_loss: 1.3208 - val_accuracy: 0.6625\n",
            "Epoch 155/250\n",
            "85/85 [==============================] - 43s 498ms/step - loss: 0.5476 - accuracy: 0.8853 - val_loss: 1.3158 - val_accuracy: 0.6687\n",
            "Epoch 156/250\n",
            "85/85 [==============================] - 43s 505ms/step - loss: 0.5384 - accuracy: 0.8699 - val_loss: 1.1767 - val_accuracy: 0.6844\n",
            "Epoch 157/250\n",
            "85/85 [==============================] - ETA: 0s - loss: 0.5299 - accuracy: 0.8890\n",
            "Reached 0.69% validation accuracy, saving model...\n",
            "85/85 [==============================] - 46s 538ms/step - loss: 0.5299 - accuracy: 0.8890 - val_loss: 1.0989 - val_accuracy: 0.7188\n",
            "Epoch 158/250\n",
            "85/85 [==============================] - ETA: 0s - loss: 0.5191 - accuracy: 0.8816\n",
            "Reached 0.69% validation accuracy, saving model...\n",
            "85/85 [==============================] - 45s 531ms/step - loss: 0.5191 - accuracy: 0.8816 - val_loss: 1.1997 - val_accuracy: 0.6938\n",
            "Epoch 159/250\n",
            "85/85 [==============================] - 43s 503ms/step - loss: 0.5181 - accuracy: 0.8794 - val_loss: 1.2863 - val_accuracy: 0.6781\n",
            "Epoch 160/250\n",
            "85/85 [==============================] - ETA: 0s - loss: 0.5356 - accuracy: 0.8746\n",
            "Reached 0.69% validation accuracy, saving model...\n",
            "85/85 [==============================] - 46s 539ms/step - loss: 0.5356 - accuracy: 0.8746 - val_loss: 1.1713 - val_accuracy: 0.6969\n",
            "Epoch 161/250\n",
            "85/85 [==============================] - 43s 499ms/step - loss: 0.4917 - accuracy: 0.8894 - val_loss: 1.2408 - val_accuracy: 0.6875\n",
            "Epoch 162/250\n",
            "85/85 [==============================] - ETA: 0s - loss: 0.5038 - accuracy: 0.8945\n",
            "Reached 0.69% validation accuracy, saving model...\n",
            "85/85 [==============================] - 45s 528ms/step - loss: 0.5038 - accuracy: 0.8945 - val_loss: 1.1506 - val_accuracy: 0.6906\n",
            "Epoch 163/250\n",
            "85/85 [==============================] - 43s 503ms/step - loss: 0.4578 - accuracy: 0.9004 - val_loss: 1.2973 - val_accuracy: 0.6750\n",
            "Epoch 164/250\n",
            "85/85 [==============================] - ETA: 0s - loss: 0.4702 - accuracy: 0.8960\n",
            "Reached 0.69% validation accuracy, saving model...\n",
            "85/85 [==============================] - 46s 537ms/step - loss: 0.4702 - accuracy: 0.8960 - val_loss: 1.1141 - val_accuracy: 0.7156\n",
            "Epoch 165/250\n",
            "85/85 [==============================] - ETA: 0s - loss: 0.4503 - accuracy: 0.9048\n",
            "Reached 0.69% validation accuracy, saving model...\n",
            "85/85 [==============================] - 46s 543ms/step - loss: 0.4503 - accuracy: 0.9048 - val_loss: 1.1763 - val_accuracy: 0.6938\n",
            "Epoch 166/250\n",
            "85/85 [==============================] - 43s 504ms/step - loss: 0.4386 - accuracy: 0.8974 - val_loss: 1.2544 - val_accuracy: 0.6812\n",
            "Epoch 167/250\n",
            "85/85 [==============================] - ETA: 0s - loss: 0.4391 - accuracy: 0.9011\n",
            "Reached 0.69% validation accuracy, saving model...\n",
            "85/85 [==============================] - 46s 533ms/step - loss: 0.4391 - accuracy: 0.9011 - val_loss: 1.1812 - val_accuracy: 0.7156\n",
            "Epoch 168/250\n",
            "85/85 [==============================] - ETA: 0s - loss: 0.4506 - accuracy: 0.9022\n",
            "Reached 0.69% validation accuracy, saving model...\n",
            "85/85 [==============================] - 46s 535ms/step - loss: 0.4506 - accuracy: 0.9022 - val_loss: 1.1100 - val_accuracy: 0.6969\n",
            "Epoch 169/250\n",
            "85/85 [==============================] - 43s 500ms/step - loss: 0.4346 - accuracy: 0.9038 - val_loss: 1.3162 - val_accuracy: 0.6781\n",
            "Epoch 170/250\n",
            "85/85 [==============================] - 43s 499ms/step - loss: 0.4109 - accuracy: 0.9143 - val_loss: 1.2467 - val_accuracy: 0.6625\n",
            "Epoch 171/250\n",
            "85/85 [==============================] - ETA: 0s - loss: 0.4248 - accuracy: 0.8968\n",
            "Reached 0.69% validation accuracy, saving model...\n",
            "85/85 [==============================] - 45s 531ms/step - loss: 0.4248 - accuracy: 0.8968 - val_loss: 1.2429 - val_accuracy: 0.6906\n",
            "Epoch 172/250\n",
            "85/85 [==============================] - ETA: 0s - loss: 0.3879 - accuracy: 0.9200\n",
            "Reached 0.69% validation accuracy, saving model...\n",
            "85/85 [==============================] - 46s 537ms/step - loss: 0.3879 - accuracy: 0.9200 - val_loss: 1.0909 - val_accuracy: 0.7094\n",
            "Epoch 173/250\n",
            "85/85 [==============================] - ETA: 0s - loss: 0.3977 - accuracy: 0.9121\n",
            "Reached 0.69% validation accuracy, saving model...\n",
            "85/85 [==============================] - 46s 536ms/step - loss: 0.3977 - accuracy: 0.9121 - val_loss: 1.2990 - val_accuracy: 0.6938\n",
            "Epoch 174/250\n",
            "85/85 [==============================] - 43s 499ms/step - loss: 0.3882 - accuracy: 0.9119 - val_loss: 1.2340 - val_accuracy: 0.6844\n",
            "Epoch 175/250\n",
            "85/85 [==============================] - ETA: 0s - loss: 0.3579 - accuracy: 0.9224\n",
            "Reached 0.69% validation accuracy, saving model...\n",
            "85/85 [==============================] - 46s 537ms/step - loss: 0.3579 - accuracy: 0.9224 - val_loss: 1.1851 - val_accuracy: 0.7125\n",
            "Epoch 176/250\n",
            "85/85 [==============================] - 42s 492ms/step - loss: 0.3669 - accuracy: 0.9185 - val_loss: 1.2616 - val_accuracy: 0.6812\n",
            "Epoch 177/250\n",
            "85/85 [==============================] - ETA: 0s - loss: 0.3535 - accuracy: 0.9213\n",
            "Reached 0.69% validation accuracy, saving model...\n",
            "85/85 [==============================] - 45s 530ms/step - loss: 0.3535 - accuracy: 0.9213 - val_loss: 1.3163 - val_accuracy: 0.7000\n",
            "Epoch 178/250\n",
            "85/85 [==============================] - 42s 488ms/step - loss: 0.3665 - accuracy: 0.9167 - val_loss: 1.2226 - val_accuracy: 0.6781\n",
            "Epoch 179/250\n",
            "85/85 [==============================] - ETA: 0s - loss: 0.3507 - accuracy: 0.9237\n",
            "Reached 0.69% validation accuracy, saving model...\n",
            "85/85 [==============================] - 45s 522ms/step - loss: 0.3507 - accuracy: 0.9237 - val_loss: 1.1497 - val_accuracy: 0.7156\n",
            "Epoch 180/250\n",
            "85/85 [==============================] - 43s 498ms/step - loss: 0.3233 - accuracy: 0.9316 - val_loss: 1.3243 - val_accuracy: 0.6812\n",
            "Epoch 181/250\n",
            "85/85 [==============================] - ETA: 0s - loss: 0.3113 - accuracy: 0.9364\n",
            "Reached 0.69% validation accuracy, saving model...\n",
            "85/85 [==============================] - 46s 534ms/step - loss: 0.3113 - accuracy: 0.9364 - val_loss: 1.1372 - val_accuracy: 0.6938\n",
            "Epoch 182/250\n",
            "85/85 [==============================] - ETA: 0s - loss: 0.3307 - accuracy: 0.9338\n",
            "Reached 0.69% validation accuracy, saving model...\n",
            "85/85 [==============================] - 46s 534ms/step - loss: 0.3307 - accuracy: 0.9338 - val_loss: 1.1035 - val_accuracy: 0.7437\n",
            "Epoch 183/250\n",
            "85/85 [==============================] - ETA: 0s - loss: 0.3252 - accuracy: 0.9316\n",
            "Reached 0.69% validation accuracy, saving model...\n",
            "85/85 [==============================] - 45s 532ms/step - loss: 0.3252 - accuracy: 0.9316 - val_loss: 1.1794 - val_accuracy: 0.7094\n",
            "Epoch 184/250\n",
            "85/85 [==============================] - 42s 495ms/step - loss: 0.3114 - accuracy: 0.9310 - val_loss: 1.3210 - val_accuracy: 0.6875\n",
            "Epoch 185/250\n",
            "85/85 [==============================] - ETA: 0s - loss: 0.3060 - accuracy: 0.9331\n",
            "Reached 0.69% validation accuracy, saving model...\n",
            "85/85 [==============================] - 44s 518ms/step - loss: 0.3060 - accuracy: 0.9331 - val_loss: 1.1154 - val_accuracy: 0.7063\n",
            "Epoch 186/250\n",
            "85/85 [==============================] - ETA: 0s - loss: 0.2799 - accuracy: 0.9447\n",
            "Reached 0.69% validation accuracy, saving model...\n",
            "85/85 [==============================] - 45s 529ms/step - loss: 0.2799 - accuracy: 0.9447 - val_loss: 1.1454 - val_accuracy: 0.7250\n",
            "Epoch 187/250\n",
            "85/85 [==============================] - ETA: 0s - loss: 0.2912 - accuracy: 0.9342\n",
            "Reached 0.69% validation accuracy, saving model...\n",
            "85/85 [==============================] - 47s 547ms/step - loss: 0.2912 - accuracy: 0.9342 - val_loss: 1.1488 - val_accuracy: 0.6969\n",
            "Epoch 188/250\n",
            "85/85 [==============================] - ETA: 0s - loss: 0.2694 - accuracy: 0.9419\n",
            "Reached 0.69% validation accuracy, saving model...\n",
            "85/85 [==============================] - 45s 528ms/step - loss: 0.2694 - accuracy: 0.9419 - val_loss: 1.0750 - val_accuracy: 0.7219\n",
            "Epoch 189/250\n",
            "85/85 [==============================] - ETA: 0s - loss: 0.2627 - accuracy: 0.9476\n",
            "Reached 0.69% validation accuracy, saving model...\n",
            "85/85 [==============================] - 45s 525ms/step - loss: 0.2627 - accuracy: 0.9476 - val_loss: 1.2027 - val_accuracy: 0.7156\n",
            "Epoch 190/250\n",
            "85/85 [==============================] - ETA: 0s - loss: 0.2773 - accuracy: 0.9443\n",
            "Reached 0.69% validation accuracy, saving model...\n",
            "85/85 [==============================] - 45s 530ms/step - loss: 0.2773 - accuracy: 0.9443 - val_loss: 1.1690 - val_accuracy: 0.7188\n",
            "Epoch 191/250\n",
            "85/85 [==============================] - 42s 494ms/step - loss: 0.2567 - accuracy: 0.9506 - val_loss: 1.2387 - val_accuracy: 0.6719\n",
            "Epoch 192/250\n",
            "85/85 [==============================] - ETA: 0s - loss: 0.2602 - accuracy: 0.9452\n",
            "Reached 0.69% validation accuracy, saving model...\n",
            "85/85 [==============================] - 45s 528ms/step - loss: 0.2602 - accuracy: 0.9452 - val_loss: 1.1057 - val_accuracy: 0.7063\n",
            "Epoch 193/250\n",
            "85/85 [==============================] - ETA: 0s - loss: 0.2700 - accuracy: 0.9412\n",
            "Reached 0.69% validation accuracy, saving model...\n",
            "85/85 [==============================] - 45s 525ms/step - loss: 0.2700 - accuracy: 0.9412 - val_loss: 1.0758 - val_accuracy: 0.7406\n",
            "Epoch 194/250\n",
            "85/85 [==============================] - ETA: 0s - loss: 0.2458 - accuracy: 0.9493\n",
            "Reached 0.69% validation accuracy, saving model...\n",
            "85/85 [==============================] - 45s 528ms/step - loss: 0.2458 - accuracy: 0.9493 - val_loss: 1.1882 - val_accuracy: 0.7094\n",
            "Epoch 195/250\n",
            "85/85 [==============================] - ETA: 0s - loss: 0.2405 - accuracy: 0.9548\n",
            "Reached 0.69% validation accuracy, saving model...\n",
            "85/85 [==============================] - 45s 527ms/step - loss: 0.2405 - accuracy: 0.9548 - val_loss: 1.1942 - val_accuracy: 0.6938\n",
            "Epoch 196/250\n",
            "85/85 [==============================] - 42s 494ms/step - loss: 0.2489 - accuracy: 0.9487 - val_loss: 1.3570 - val_accuracy: 0.6687\n",
            "Epoch 197/250\n",
            "85/85 [==============================] - 42s 488ms/step - loss: 0.2403 - accuracy: 0.9550 - val_loss: 1.2043 - val_accuracy: 0.6875\n",
            "Epoch 198/250\n",
            "85/85 [==============================] - ETA: 0s - loss: 0.2232 - accuracy: 0.9598\n",
            "Reached 0.69% validation accuracy, saving model...\n",
            "85/85 [==============================] - 44s 521ms/step - loss: 0.2232 - accuracy: 0.9598 - val_loss: 1.2637 - val_accuracy: 0.6969\n",
            "Epoch 199/250\n",
            "85/85 [==============================] - 42s 489ms/step - loss: 0.2201 - accuracy: 0.9555 - val_loss: 1.2762 - val_accuracy: 0.6844\n",
            "Epoch 200/250\n",
            "85/85 [==============================] - ETA: 0s - loss: 0.2154 - accuracy: 0.9581\n",
            "Reached 0.69% validation accuracy, saving model...\n",
            "85/85 [==============================] - 45s 525ms/step - loss: 0.2154 - accuracy: 0.9581 - val_loss: 1.1569 - val_accuracy: 0.7094\n",
            "Epoch 201/250\n",
            "85/85 [==============================] - ETA: 0s - loss: 0.2064 - accuracy: 0.9577\n",
            "Reached 0.69% validation accuracy, saving model...\n",
            "85/85 [==============================] - 45s 530ms/step - loss: 0.2064 - accuracy: 0.9577 - val_loss: 1.1989 - val_accuracy: 0.7063\n",
            "Epoch 202/250\n",
            "85/85 [==============================] - ETA: 0s - loss: 0.2114 - accuracy: 0.9620\n",
            "Reached 0.69% validation accuracy, saving model...\n",
            "85/85 [==============================] - 45s 524ms/step - loss: 0.2114 - accuracy: 0.9620 - val_loss: 1.1464 - val_accuracy: 0.7219\n",
            "Epoch 203/250\n",
            "85/85 [==============================] - ETA: 0s - loss: 0.2219 - accuracy: 0.9563\n",
            "Reached 0.69% validation accuracy, saving model...\n",
            "85/85 [==============================] - 45s 527ms/step - loss: 0.2219 - accuracy: 0.9563 - val_loss: 1.1507 - val_accuracy: 0.7250\n",
            "Epoch 204/250\n",
            "85/85 [==============================] - 42s 490ms/step - loss: 0.2114 - accuracy: 0.9625 - val_loss: 1.3512 - val_accuracy: 0.6687\n",
            "Epoch 205/250\n",
            "85/85 [==============================] - ETA: 0s - loss: 0.1864 - accuracy: 0.9653\n",
            "Reached 0.69% validation accuracy, saving model...\n",
            "85/85 [==============================] - 44s 519ms/step - loss: 0.1864 - accuracy: 0.9653 - val_loss: 1.2844 - val_accuracy: 0.7188\n",
            "Epoch 206/250\n",
            "85/85 [==============================] - 42s 488ms/step - loss: 0.1972 - accuracy: 0.9574 - val_loss: 1.3402 - val_accuracy: 0.6875\n",
            "Epoch 207/250\n",
            "85/85 [==============================] - ETA: 0s - loss: 0.1829 - accuracy: 0.9640\n",
            "Reached 0.69% validation accuracy, saving model...\n",
            "85/85 [==============================] - 44s 516ms/step - loss: 0.1829 - accuracy: 0.9640 - val_loss: 1.1173 - val_accuracy: 0.7375\n",
            "Epoch 208/250\n",
            "85/85 [==============================] - ETA: 0s - loss: 0.1881 - accuracy: 0.9639\n",
            "Reached 0.69% validation accuracy, saving model...\n",
            "85/85 [==============================] - 45s 521ms/step - loss: 0.1881 - accuracy: 0.9639 - val_loss: 1.2046 - val_accuracy: 0.7000\n",
            "Epoch 209/250\n",
            "85/85 [==============================] - 42s 486ms/step - loss: 0.1894 - accuracy: 0.9647 - val_loss: 1.2019 - val_accuracy: 0.6750\n",
            "Epoch 210/250\n",
            "85/85 [==============================] - ETA: 0s - loss: 0.1758 - accuracy: 0.9684\n",
            "Reached 0.69% validation accuracy, saving model...\n",
            "85/85 [==============================] - 45s 524ms/step - loss: 0.1758 - accuracy: 0.9684 - val_loss: 1.1864 - val_accuracy: 0.7281\n",
            "Epoch 211/250\n",
            "85/85 [==============================] - ETA: 0s - loss: 0.1701 - accuracy: 0.9698\n",
            "Reached 0.69% validation accuracy, saving model...\n",
            "85/85 [==============================] - 44s 515ms/step - loss: 0.1701 - accuracy: 0.9698 - val_loss: 1.2628 - val_accuracy: 0.6906\n",
            "Epoch 212/250\n",
            "85/85 [==============================] - ETA: 0s - loss: 0.1891 - accuracy: 0.9613\n",
            "Reached 0.69% validation accuracy, saving model...\n",
            "85/85 [==============================] - 44s 517ms/step - loss: 0.1891 - accuracy: 0.9613 - val_loss: 1.0852 - val_accuracy: 0.7437\n",
            "Epoch 213/250\n",
            "85/85 [==============================] - 42s 486ms/step - loss: 0.1641 - accuracy: 0.9662 - val_loss: 1.2874 - val_accuracy: 0.6875\n",
            "Epoch 214/250\n",
            "85/85 [==============================] - ETA: 0s - loss: 0.1616 - accuracy: 0.9683\n",
            "Reached 0.69% validation accuracy, saving model...\n",
            "85/85 [==============================] - 44s 518ms/step - loss: 0.1616 - accuracy: 0.9683 - val_loss: 1.2222 - val_accuracy: 0.7063\n",
            "Epoch 215/250\n",
            "85/85 [==============================] - 41s 482ms/step - loss: 0.1565 - accuracy: 0.9727 - val_loss: 1.4123 - val_accuracy: 0.6875\n",
            "Epoch 216/250\n",
            "85/85 [==============================] - ETA: 0s - loss: 0.1627 - accuracy: 0.9676\n",
            "Reached 0.69% validation accuracy, saving model...\n",
            "85/85 [==============================] - 45s 522ms/step - loss: 0.1627 - accuracy: 0.9676 - val_loss: 1.2579 - val_accuracy: 0.7437\n",
            "Epoch 217/250\n",
            "85/85 [==============================] - ETA: 0s - loss: 0.1586 - accuracy: 0.9690\n",
            "Reached 0.69% validation accuracy, saving model...\n",
            "85/85 [==============================] - 44s 520ms/step - loss: 0.1586 - accuracy: 0.9690 - val_loss: 1.3636 - val_accuracy: 0.6969\n",
            "Epoch 218/250\n",
            "85/85 [==============================] - 41s 482ms/step - loss: 0.1617 - accuracy: 0.9691 - val_loss: 1.3816 - val_accuracy: 0.6719\n",
            "Epoch 219/250\n",
            "85/85 [==============================] - 41s 484ms/step - loss: 0.1548 - accuracy: 0.9712 - val_loss: 1.4032 - val_accuracy: 0.6781\n",
            "Epoch 220/250\n",
            "85/85 [==============================] - 41s 483ms/step - loss: 0.1394 - accuracy: 0.9794 - val_loss: 1.3876 - val_accuracy: 0.6719\n",
            "Epoch 221/250\n",
            "85/85 [==============================] - 41s 481ms/step - loss: 0.1347 - accuracy: 0.9779 - val_loss: 1.3518 - val_accuracy: 0.6875\n",
            "Epoch 222/250\n",
            "85/85 [==============================] - ETA: 0s - loss: 0.1384 - accuracy: 0.9775\n",
            "Reached 0.69% validation accuracy, saving model...\n",
            "85/85 [==============================] - 44s 517ms/step - loss: 0.1384 - accuracy: 0.9775 - val_loss: 1.1813 - val_accuracy: 0.7312\n",
            "Epoch 223/250\n",
            "85/85 [==============================] - ETA: 0s - loss: 0.1369 - accuracy: 0.9801\n",
            "Reached 0.69% validation accuracy, saving model...\n",
            "85/85 [==============================] - 44s 521ms/step - loss: 0.1369 - accuracy: 0.9801 - val_loss: 1.3805 - val_accuracy: 0.6906\n",
            "Epoch 224/250\n",
            "85/85 [==============================] - ETA: 0s - loss: 0.1422 - accuracy: 0.9746\n",
            "Reached 0.69% validation accuracy, saving model...\n",
            "85/85 [==============================] - 45s 522ms/step - loss: 0.1422 - accuracy: 0.9746 - val_loss: 1.2636 - val_accuracy: 0.7000\n",
            "Epoch 225/250\n",
            "85/85 [==============================] - ETA: 0s - loss: 0.1376 - accuracy: 0.9764\n",
            "Reached 0.69% validation accuracy, saving model...\n",
            "85/85 [==============================] - 45s 521ms/step - loss: 0.1376 - accuracy: 0.9764 - val_loss: 1.2339 - val_accuracy: 0.7063\n",
            "Epoch 226/250\n",
            "85/85 [==============================] - 42s 490ms/step - loss: 0.1343 - accuracy: 0.9742 - val_loss: 1.3069 - val_accuracy: 0.6875\n",
            "Epoch 227/250\n",
            "85/85 [==============================] - ETA: 0s - loss: 0.1316 - accuracy: 0.9765\n",
            "Reached 0.69% validation accuracy, saving model...\n",
            "85/85 [==============================] - 44s 521ms/step - loss: 0.1316 - accuracy: 0.9765 - val_loss: 1.3062 - val_accuracy: 0.7219\n",
            "Epoch 228/250\n",
            "85/85 [==============================] - ETA: 0s - loss: 0.1268 - accuracy: 0.9794\n",
            "Reached 0.69% validation accuracy, saving model...\n",
            "85/85 [==============================] - 44s 518ms/step - loss: 0.1268 - accuracy: 0.9794 - val_loss: 1.1697 - val_accuracy: 0.7281\n",
            "Epoch 229/250\n",
            "85/85 [==============================] - ETA: 0s - loss: 0.1232 - accuracy: 0.9775\n",
            "Reached 0.69% validation accuracy, saving model...\n",
            "85/85 [==============================] - 44s 517ms/step - loss: 0.1232 - accuracy: 0.9775 - val_loss: 1.1910 - val_accuracy: 0.7156\n",
            "Epoch 230/250\n",
            "85/85 [==============================] - ETA: 0s - loss: 0.1109 - accuracy: 0.9864\n",
            "Reached 0.69% validation accuracy, saving model...\n",
            "85/85 [==============================] - 45s 521ms/step - loss: 0.1109 - accuracy: 0.9864 - val_loss: 1.0958 - val_accuracy: 0.7625\n",
            "Epoch 231/250\n",
            "85/85 [==============================] - ETA: 0s - loss: 0.1207 - accuracy: 0.9775\n",
            "Reached 0.69% validation accuracy, saving model...\n",
            "85/85 [==============================] - 44s 518ms/step - loss: 0.1207 - accuracy: 0.9775 - val_loss: 1.1758 - val_accuracy: 0.7344\n",
            "Epoch 232/250\n",
            "85/85 [==============================] - ETA: 0s - loss: 0.1061 - accuracy: 0.9846\n",
            "Reached 0.69% validation accuracy, saving model...\n",
            "85/85 [==============================] - 44s 518ms/step - loss: 0.1061 - accuracy: 0.9846 - val_loss: 1.3043 - val_accuracy: 0.7344\n",
            "Epoch 233/250\n",
            "85/85 [==============================] - ETA: 0s - loss: 0.1218 - accuracy: 0.9790\n",
            "Reached 0.69% validation accuracy, saving model...\n",
            "85/85 [==============================] - 44s 513ms/step - loss: 0.1218 - accuracy: 0.9790 - val_loss: 1.1535 - val_accuracy: 0.7406\n",
            "Epoch 234/250\n",
            "85/85 [==============================] - ETA: 0s - loss: 0.1088 - accuracy: 0.9775\n",
            "Reached 0.69% validation accuracy, saving model...\n",
            "85/85 [==============================] - 44s 519ms/step - loss: 0.1088 - accuracy: 0.9775 - val_loss: 1.1621 - val_accuracy: 0.7188\n",
            "Epoch 235/250\n",
            "85/85 [==============================] - ETA: 0s - loss: 0.1040 - accuracy: 0.9838\n",
            "Reached 0.69% validation accuracy, saving model...\n",
            "85/85 [==============================] - 45s 523ms/step - loss: 0.1040 - accuracy: 0.9838 - val_loss: 1.3928 - val_accuracy: 0.6969\n",
            "Epoch 236/250\n",
            "85/85 [==============================] - ETA: 0s - loss: 0.1234 - accuracy: 0.9779\n",
            "Reached 0.69% validation accuracy, saving model...\n",
            "85/85 [==============================] - 44s 520ms/step - loss: 0.1234 - accuracy: 0.9779 - val_loss: 1.2508 - val_accuracy: 0.7125\n",
            "Epoch 237/250\n",
            "85/85 [==============================] - ETA: 0s - loss: 0.1024 - accuracy: 0.9842\n",
            "Reached 0.69% validation accuracy, saving model...\n",
            "85/85 [==============================] - 45s 521ms/step - loss: 0.1024 - accuracy: 0.9842 - val_loss: 1.3451 - val_accuracy: 0.7281\n",
            "Epoch 238/250\n",
            "85/85 [==============================] - ETA: 0s - loss: 0.1044 - accuracy: 0.9849\n",
            "Reached 0.69% validation accuracy, saving model...\n",
            "85/85 [==============================] - 47s 552ms/step - loss: 0.1044 - accuracy: 0.9849 - val_loss: 1.1908 - val_accuracy: 0.7000\n",
            "Epoch 239/250\n",
            "85/85 [==============================] - 41s 483ms/step - loss: 0.0976 - accuracy: 0.9856 - val_loss: 1.4054 - val_accuracy: 0.6844\n",
            "Epoch 240/250\n",
            "85/85 [==============================] - 41s 483ms/step - loss: 0.0978 - accuracy: 0.9849 - val_loss: 1.5079 - val_accuracy: 0.6500\n",
            "Epoch 241/250\n",
            "85/85 [==============================] - ETA: 0s - loss: 0.1023 - accuracy: 0.9841\n",
            "Reached 0.69% validation accuracy, saving model...\n",
            "85/85 [==============================] - 44s 518ms/step - loss: 0.1023 - accuracy: 0.9841 - val_loss: 1.3963 - val_accuracy: 0.7094\n",
            "Epoch 242/250\n",
            "85/85 [==============================] - ETA: 0s - loss: 0.0992 - accuracy: 0.9860\n",
            "Reached 0.69% validation accuracy, saving model...\n",
            "85/85 [==============================] - 45s 522ms/step - loss: 0.0992 - accuracy: 0.9860 - val_loss: 1.3647 - val_accuracy: 0.6969\n",
            "Epoch 243/250\n",
            "85/85 [==============================] - ETA: 0s - loss: 0.0944 - accuracy: 0.9838\n",
            "Reached 0.69% validation accuracy, saving model...\n",
            "85/85 [==============================] - 44s 517ms/step - loss: 0.0944 - accuracy: 0.9838 - val_loss: 1.2646 - val_accuracy: 0.7219\n",
            "Epoch 244/250\n",
            "85/85 [==============================] - 41s 480ms/step - loss: 0.1008 - accuracy: 0.9812 - val_loss: 1.3801 - val_accuracy: 0.6844\n",
            "Epoch 245/250\n",
            "85/85 [==============================] - ETA: 0s - loss: 0.0919 - accuracy: 0.9864\n",
            "Reached 0.69% validation accuracy, saving model...\n",
            "85/85 [==============================] - 44s 521ms/step - loss: 0.0919 - accuracy: 0.9864 - val_loss: 1.4401 - val_accuracy: 0.6906\n",
            "Epoch 246/250\n",
            "85/85 [==============================] - ETA: 0s - loss: 0.0944 - accuracy: 0.9834\n",
            "Reached 0.69% validation accuracy, saving model...\n",
            "85/85 [==============================] - 44s 517ms/step - loss: 0.0944 - accuracy: 0.9834 - val_loss: 1.4233 - val_accuracy: 0.7000\n",
            "Epoch 247/250\n",
            "85/85 [==============================] - ETA: 0s - loss: 0.0904 - accuracy: 0.9849\n",
            "Reached 0.69% validation accuracy, saving model...\n",
            "85/85 [==============================] - 44s 517ms/step - loss: 0.0904 - accuracy: 0.9849 - val_loss: 1.1336 - val_accuracy: 0.7375\n",
            "Epoch 248/250\n",
            "85/85 [==============================] - ETA: 0s - loss: 0.0933 - accuracy: 0.9857\n",
            "Reached 0.69% validation accuracy, saving model...\n",
            "85/85 [==============================] - 44s 517ms/step - loss: 0.0933 - accuracy: 0.9857 - val_loss: 1.3935 - val_accuracy: 0.7063\n",
            "Epoch 249/250\n",
            "85/85 [==============================] - ETA: 0s - loss: 0.0882 - accuracy: 0.9871\n",
            "Reached 0.69% validation accuracy, saving model...\n",
            "85/85 [==============================] - 45s 521ms/step - loss: 0.0882 - accuracy: 0.9871 - val_loss: 1.3109 - val_accuracy: 0.7000\n",
            "Epoch 250/250\n",
            "85/85 [==============================] - ETA: 0s - loss: 0.1004 - accuracy: 0.9805\n",
            "Reached 0.69% validation accuracy, saving model...\n",
            "85/85 [==============================] - 45s 521ms/step - loss: 0.1004 - accuracy: 0.9805 - val_loss: 1.3824 - val_accuracy: 0.7156\n"
          ]
        }
      ],
      "source": [
        "save_callback = SaveModelOnAccuracy(\"/content/gdrive/MyDrive/birds_check_points/model.{epoch:02d}-{val_accuracy:.2f}.h5\", target_accuracy=0.75)\n",
        "history=model.fit(\n",
        "    train_generator,\n",
        "    steps_per_epoch = 85,\n",
        "    validation_data = validation_generator, \n",
        "    validation_steps = 10,\n",
        "    epochs = 250,callbacks=[save_callback])"
      ]
    },
    {
      "cell_type": "code",
      "execution_count": null,
      "metadata": {
        "id": "Av8UXVnFnrU5",
        "vscode": {
          "languageId": "python"
        }
      },
      "outputs": [],
      "source": [
        "model.compile(optimizer=tf.keras.optimizers.Adam(learning_rate=0.00001), loss='categorical_crossentropy', metrics=['accuracy'])"
      ]
    },
    {
      "cell_type": "code",
      "execution_count": null,
      "metadata": {
        "colab": {
          "base_uri": "https://localhost:8080/"
        },
        "id": "-N-tyWhMU_1A",
        "outputId": "4c2b1ed0-6e11-46cf-86e6-f60e6ae8b57c",
        "vscode": {
          "languageId": "python"
        }
      },
      "outputs": [
        {
          "name": "stdout",
          "output_type": "stream",
          "text": [
            "Epoch 1/10\n",
            "85/85 [==============================] - 74s 668ms/step - loss: 0.0644 - accuracy: 0.9904 - val_loss: 1.2119 - val_accuracy: 0.7406\n",
            "Epoch 2/10\n",
            "85/85 [==============================] - 55s 642ms/step - loss: 0.0585 - accuracy: 0.9926 - val_loss: 1.4519 - val_accuracy: 0.6750\n",
            "Epoch 3/10\n",
            "85/85 [==============================] - 54s 638ms/step - loss: 0.0682 - accuracy: 0.9871 - val_loss: 1.2664 - val_accuracy: 0.7375\n",
            "Epoch 4/10\n",
            "50/85 [================>.............] - ETA: 19s - loss: 0.0691 - accuracy: 0.9894"
          ]
        }
      ],
      "source": [
        "save_callback = SaveModelOnAccuracy(\"/content/gdrive/MyDrive/birds_check_points/mode_refined_2022.h5\", target_accuracy=0.76)\n",
        "history=model.fit(\n",
        "    train_generator,\n",
        "    steps_per_epoch = 85,\n",
        "    validation_data = validation_generator, \n",
        "    validation_steps = 10,\n",
        "    epochs = 10,callbacks=[save_callback])"
      ]
    },
    {
      "cell_type": "code",
      "execution_count": null,
      "metadata": {
        "id": "NOLyAyQz7nOr",
        "vscode": {
          "languageId": "python"
        }
      },
      "outputs": [],
      "source": [
        "model.save('/content/gdrive/MyDrive/birds_check_points/mode_refined_2022_71.h5')"
      ]
    },
    {
      "cell_type": "markdown",
      "metadata": {
        "id": "QR6kkwjtpZUu"
      },
      "source": [
        "#Testing"
      ]
    },
    {
      "cell_type": "code",
      "execution_count": null,
      "metadata": {
        "id": "nl38pjQjg1gz",
        "vscode": {
          "languageId": "python"
        }
      },
      "outputs": [],
      "source": [
        "load_model=keras.models.load_model('/210409183_birds_classification_model.h5') #pass the model name from the checkpointbased on validation accuracy"
      ]
    },
    {
      "cell_type": "code",
      "execution_count": null,
      "metadata": {
        "colab": {
          "base_uri": "https://localhost:8080/"
        },
        "id": "8jkvejiaWSir",
        "outputId": "280e28c8-a61b-45a8-98f7-56006ddeb060",
        "vscode": {
          "languageId": "python"
        }
      },
      "outputs": [
        {
          "name": "stderr",
          "output_type": "stream",
          "text": [
            "<ipython-input-29-583b01a16bff>:1: UserWarning: `Model.evaluate_generator` is deprecated and will be removed in a future version. Please use `Model.evaluate`, which supports generators.\n",
            "  ev=load_model.evaluate_generator(test_generator)\n"
          ]
        },
        {
          "name": "stdout",
          "output_type": "stream",
          "text": [
            "Accuracy: 71.695\n"
          ]
        }
      ],
      "source": [
        "ev=load_model.evaluate_generator(test_generator)\n",
        "print('Accuracy: %.3f' % (ev[1] * 100.0))"
      ]
    },
    {
      "cell_type": "code",
      "execution_count": null,
      "metadata": {
        "colab": {
          "base_uri": "https://localhost:8080/"
        },
        "id": "0NLZZ5PcLso5",
        "outputId": "22c93e25-c581-4d6e-fbad-07a63e6cef0f",
        "vscode": {
          "languageId": "python"
        }
      },
      "outputs": [
        {
          "name": "stderr",
          "output_type": "stream",
          "text": [
            "<ipython-input-24-7e0928ab9df9>:2: UserWarning: `Model.predict_generator` is deprecated and will be removed in a future version. Please use `Model.predict`, which supports generators.\n",
            "  y_pred = load_model.predict_generator(test_generator)\n"
          ]
        }
      ],
      "source": [
        "import numpy as np\n",
        "y_pred = load_model.predict_generator(test_generator)"
      ]
    },
    {
      "cell_type": "markdown",
      "metadata": {
        "id": "Mny9i61dXblh"
      },
      "source": [
        "##confusion matrix"
      ]
    },
    {
      "cell_type": "code",
      "execution_count": null,
      "metadata": {
        "colab": {
          "base_uri": "https://localhost:8080/"
        },
        "id": "T76qznlZ2qYN",
        "outputId": "df9420a9-dee2-48fa-b175-caf3b0a1685e",
        "vscode": {
          "languageId": "python"
        }
      },
      "outputs": [
        {
          "name": "stdout",
          "output_type": "stream",
          "text": [
            "[[22  1  5 ...  0  0  0]\n",
            " [ 0 20  3 ...  0  0  0]\n",
            " [ 2  2 19 ...  0  0  0]\n",
            " ...\n",
            " [ 0  0  0 ... 21  0  0]\n",
            " [ 0  0  0 ...  0 24  0]\n",
            " [ 0  0  0 ...  0  0 27]]\n"
          ]
        }
      ],
      "source": [
        "from sklearn.metrics import confusion_matrix\n",
        "import matplotlib.pyplot as plt\n",
        "\n",
        "clas_pred=np.argmax(y_pred,axis=1)\n",
        "y_true = test_generator.classes\n",
        "cm = confusion_matrix(y_true, clas_pred)\n",
        "print(cm)# since the class is 200 it's better to view it in heatmap if neccesary it can be download as .csv"
      ]
    },
    {
      "cell_type": "code",
      "execution_count": null,
      "metadata": {
        "colab": {
          "base_uri": "https://localhost:8080/",
          "height": 293
        },
        "id": "a8YzK-Se9Tea",
        "outputId": "91ace014-14d3-40d5-facc-eaec2d7a5018",
        "vscode": {
          "languageId": "python"
        }
      },
      "outputs": [
        {
          "data": {
            "image/png": "[encoded data removed]",
            "text/plain": [
              "<Figure size 432x288 with 2 Axes>"
            ]
          },
          "metadata": {
            "needs_background": "light"
          },
          "output_type": "display_data"
        }
      ],
      "source": [
        "import seaborn as sns\n",
        "sns.heatmap(cm, annot=True, cmap='inferno')\n",
        "plt.xlabel('Predicted labels')\n",
        "plt.ylabel('True labels')\n",
        "plt.title('Confusion Matrix')\n",
        "plt.show()"
      ]
    },
    {
      "cell_type": "markdown",
      "metadata": {
        "id": "MeFnrOICtIbf"
      },
      "source": [
        "##classification report"
      ]
    },
    {
      "cell_type": "code",
      "execution_count": null,
      "metadata": {
        "colab": {
          "base_uri": "https://localhost:8080/"
        },
        "id": "I_gNVIc5tOue",
        "outputId": "55b7bd9f-af42-498a-b72d-3de6dd4eabbe",
        "vscode": {
          "languageId": "python"
        }
      },
      "outputs": [
        {
          "name": "stdout",
          "output_type": "stream",
          "text": [
            "              precision    recall  f1-score   support\n",
            "\n",
            "           0       0.76      0.73      0.75        30\n",
            "           1       0.80      0.67      0.73        30\n",
            "           2       0.53      0.68      0.59        28\n",
            "           3       0.80      0.80      0.80        30\n",
            "           4       0.75      0.86      0.80        14\n",
            "           5       0.83      0.91      0.87        11\n",
            "           6       0.96      0.96      0.96        23\n",
            "           7       0.78      0.78      0.78        18\n",
            "           8       0.47      0.52      0.49        29\n",
            "           9       0.96      0.83      0.89        30\n",
            "          10       0.55      0.53      0.54        30\n",
            "          11       1.00      0.92      0.96        26\n",
            "          12       1.00      0.80      0.89        30\n",
            "          13       0.81      0.87      0.84        30\n",
            "          14       0.89      0.89      0.89        28\n",
            "          15       1.00      0.86      0.92        28\n",
            "          16       0.93      0.96      0.95        27\n",
            "          17       0.88      1.00      0.94        15\n",
            "          18       0.76      0.86      0.81        29\n",
            "          19       0.84      0.90      0.87        29\n",
            "          20       0.85      0.73      0.79        30\n",
            "          21       0.68      0.50      0.58        26\n",
            "          22       0.53      0.66      0.58        29\n",
            "          23       0.77      0.77      0.77        22\n",
            "          24       0.42      0.37      0.39        30\n",
            "          25       0.68      0.83      0.75        30\n",
            "          26       0.46      0.43      0.45        30\n",
            "          27       0.92      0.83      0.87        29\n",
            "          28       0.41      0.43      0.42        30\n",
            "          29       0.39      0.40      0.39        30\n",
            "          30       0.75      0.70      0.72        30\n",
            "          31       0.54      0.57      0.55        23\n",
            "          32       0.64      0.62      0.63        29\n",
            "          33       0.87      0.69      0.77        29\n",
            "          34       0.76      0.93      0.84        30\n",
            "          35       0.90      0.87      0.88        30\n",
            "          36       0.42      0.55      0.48        29\n",
            "          37       0.85      0.73      0.79        30\n",
            "          38       0.38      0.38      0.38        29\n",
            "          39       0.50      0.47      0.48        30\n",
            "          40       0.82      0.77      0.79        30\n",
            "          41       0.96      0.80      0.87        30\n",
            "          42       0.26      0.21      0.23        29\n",
            "          43       0.86      0.80      0.83        30\n",
            "          44       0.83      0.50      0.62        30\n",
            "          45       0.68      0.87      0.76        30\n",
            "          46       0.87      0.90      0.89        30\n",
            "          47       1.00      0.90      0.95        30\n",
            "          48       0.56      0.60      0.58        30\n",
            "          49       0.63      0.63      0.63        30\n",
            "          50       0.67      0.67      0.67        30\n",
            "          51       0.84      0.90      0.87        30\n",
            "          52       1.00      0.87      0.93        30\n",
            "          53       0.85      0.73      0.79        30\n",
            "          54       0.96      0.80      0.87        30\n",
            "          55       0.82      0.77      0.79        30\n",
            "          56       0.91      1.00      0.95        30\n",
            "          57       0.86      0.89      0.88        28\n",
            "          58       0.22      0.20      0.21        30\n",
            "          59       0.50      0.48      0.49        29\n",
            "          60       0.87      0.90      0.89        30\n",
            "          61       0.28      0.40      0.33        30\n",
            "          62       0.73      0.80      0.76        30\n",
            "          63       0.57      0.40      0.47        30\n",
            "          64       0.50      0.55      0.52        20\n",
            "          65       0.53      0.53      0.53        30\n",
            "          66       0.68      0.57      0.62        30\n",
            "          67       0.76      0.83      0.79        30\n",
            "          68       0.85      0.73      0.79        30\n",
            "          69       1.00      1.00      1.00        30\n",
            "          70       0.63      0.40      0.49        30\n",
            "          71       0.52      0.50      0.51        30\n",
            "          72       0.96      0.87      0.91        30\n",
            "          73       0.78      0.97      0.87        30\n",
            "          74       0.96      0.93      0.94        27\n",
            "          75       0.81      0.87      0.84        30\n",
            "          76       0.83      0.80      0.81        30\n",
            "          77       0.68      0.79      0.73        29\n",
            "          78       0.59      0.80      0.68        30\n",
            "          79       0.83      0.67      0.74        30\n",
            "          80       0.81      0.83      0.82        30\n",
            "          81       0.77      0.67      0.71        30\n",
            "          82       0.90      0.87      0.88        30\n",
            "          83       0.70      0.91      0.79        23\n",
            "          84       0.96      0.90      0.93        30\n",
            "          85       0.81      0.83      0.82        30\n",
            "          86       1.00      0.73      0.85        30\n",
            "          87       0.93      0.87      0.90        30\n",
            "          88       1.00      0.80      0.89        30\n",
            "          89       0.84      0.90      0.87        30\n",
            "          90       0.55      0.53      0.54        30\n",
            "          91       0.77      0.77      0.77        30\n",
            "          92       0.97      1.00      0.98        30\n",
            "          93       1.00      0.93      0.97        30\n",
            "          94       0.79      0.77      0.78        30\n",
            "          95       0.83      0.67      0.74        30\n",
            "          96       0.66      0.66      0.66        29\n",
            "          97       0.85      0.73      0.79        30\n",
            "          98       0.77      0.80      0.79        30\n",
            "          99       1.00      0.97      0.98        30\n",
            "         100       0.85      0.85      0.85        20\n",
            "         101       0.37      0.57      0.45        30\n",
            "         102       0.48      0.67      0.56        30\n",
            "         103       0.58      0.60      0.59        30\n",
            "         104       0.50      0.74      0.60        19\n",
            "         105       0.93      0.87      0.90        30\n",
            "         106       0.52      0.57      0.54        30\n",
            "         107       0.96      0.80      0.87        30\n",
            "         108       0.83      0.83      0.83        30\n",
            "         109       0.91      0.97      0.94        30\n",
            "         110       0.58      0.63      0.60        30\n",
            "         111       0.67      0.60      0.63        30\n",
            "         112       0.60      0.75      0.67        20\n",
            "         113       0.96      0.73      0.83        30\n",
            "         114       0.47      0.59      0.52        29\n",
            "         115       0.47      0.53      0.50        30\n",
            "         116       0.48      0.45      0.46        29\n",
            "         117       0.43      0.43      0.43        30\n",
            "         118       0.56      0.62      0.59        29\n",
            "         119       0.73      0.63      0.68        30\n",
            "         120       0.74      0.47      0.57        30\n",
            "         121       0.91      0.70      0.79        30\n",
            "         122       0.59      0.63      0.61        30\n",
            "         123       0.62      0.62      0.62        29\n",
            "         124       0.68      0.59      0.63        29\n",
            "         125       0.86      0.60      0.71        30\n",
            "         126       0.38      0.60      0.46        30\n",
            "         127       0.70      0.63      0.67        30\n",
            "         128       0.59      0.63      0.61        30\n",
            "         129       0.55      0.40      0.46        30\n",
            "         130       0.40      0.40      0.40        30\n",
            "         131       0.82      0.93      0.87        30\n",
            "         132       0.85      0.77      0.81        30\n",
            "         133       0.82      0.93      0.87        30\n",
            "         134       0.56      0.33      0.42        30\n",
            "         135       0.74      0.57      0.64        30\n",
            "         136       0.52      0.53      0.52        30\n",
            "         137       0.88      0.70      0.78        30\n",
            "         138       0.77      0.90      0.83        30\n",
            "         139       0.87      0.90      0.89        30\n",
            "         140       0.39      0.69      0.50        29\n",
            "         141       0.50      0.53      0.52        30\n",
            "         142       0.45      0.33      0.38        30\n",
            "         143       0.36      0.30      0.33        30\n",
            "         144       0.36      0.47      0.41        30\n",
            "         145       0.44      0.37      0.40        30\n",
            "         146       0.56      0.60      0.58        30\n",
            "         147       0.90      0.87      0.88        30\n",
            "         148       0.89      0.86      0.88        29\n",
            "         149       0.67      0.60      0.63        30\n",
            "         150       0.83      0.95      0.89        21\n",
            "         151       0.75      0.80      0.77        30\n",
            "         152       0.52      0.41      0.46        29\n",
            "         153       0.60      0.60      0.60        30\n",
            "         154       0.55      0.60      0.57        30\n",
            "         155       0.77      0.80      0.79        30\n",
            "         156       0.77      0.69      0.73        29\n",
            "         157       0.76      0.83      0.79        30\n",
            "         158       0.90      0.93      0.92        30\n",
            "         159       0.81      0.90      0.85        29\n",
            "         160       0.75      0.90      0.82        30\n",
            "         161       0.79      0.77      0.78        30\n",
            "         162       0.79      0.63      0.70        30\n",
            "         163       0.93      0.87      0.90        30\n",
            "         164       0.79      0.63      0.70        30\n",
            "         165       0.83      0.86      0.85        29\n",
            "         166       0.79      0.73      0.76        30\n",
            "         167       0.81      0.90      0.85        29\n",
            "         168       0.90      0.93      0.92        29\n",
            "         169       0.83      0.63      0.72        30\n",
            "         170       0.88      0.77      0.82        30\n",
            "         171       0.59      0.80      0.68        30\n",
            "         172       0.46      0.53      0.49        30\n",
            "         173       0.57      0.57      0.57        30\n",
            "         174       0.72      0.77      0.74        30\n",
            "         175       0.69      0.90      0.78        30\n",
            "         176       0.80      0.93      0.86        30\n",
            "         177       0.69      0.69      0.69        26\n",
            "         178       0.54      0.45      0.49        29\n",
            "         179       0.67      0.73      0.70        30\n",
            "         180       0.70      0.79      0.74        29\n",
            "         181       0.87      0.90      0.89        30\n",
            "         182       0.76      0.73      0.75        30\n",
            "         183       0.70      0.77      0.73        30\n",
            "         184       0.79      0.90      0.84        30\n",
            "         185       0.81      0.83      0.82        30\n",
            "         186       0.94      0.75      0.83        20\n",
            "         187       0.91      1.00      0.95        30\n",
            "         188       0.88      0.93      0.90        30\n",
            "         189       0.81      0.90      0.85        29\n",
            "         190       0.93      0.83      0.88        30\n",
            "         191       0.91      0.97      0.94        30\n",
            "         192       0.60      0.60      0.60        30\n",
            "         193       0.78      0.83      0.81        30\n",
            "         194       0.69      0.73      0.71        30\n",
            "         195       0.52      0.53      0.52        30\n",
            "         196       0.76      0.63      0.69        30\n",
            "         197       0.78      0.70      0.74        30\n",
            "         198       0.80      0.80      0.80        30\n",
            "         199       0.96      0.90      0.93        30\n",
            "\n",
            "    accuracy                           0.72      5794\n",
            "   macro avg       0.73      0.72      0.72      5794\n",
            "weighted avg       0.73      0.72      0.72      5794\n",
            "\n"
          ]
        }
      ],
      "source": [
        "from sklearn.metrics import classification_report\n",
        "print(classification_report(y_true,clas_pred)) # classwise precision,recall and f1score as well as thier aggregated value."
      ]
    },
    {
      "cell_type": "markdown",
      "metadata": {
        "id": "8sOAopH-hlM7"
      },
      "source": [
        "We can plot the loss and accuracy curves to better analyse the training process.\n",
        "\n",
        "The **blue** curves indicate performance over the **training data** and the *red* curves represent model performance over the *test data*:"
      ]
    },
    {
      "cell_type": "code",
      "execution_count": null,
      "metadata": {
        "colab": {
          "base_uri": "https://localhost:8080/",
          "height": 906
        },
        "id": "5j8RlsiqhuOo",
        "outputId": "2f08b3fc-749b-406e-ec2a-5d7c336194cc",
        "vscode": {
          "languageId": "python"
        }
      },
      "outputs": [
        {
          "data": {
            "image/png": "[encoded data removed]",
            "text/plain": [
              "<Figure size 432x288 with 2 Axes>"
            ]
          },
          "metadata": {
            "needs_background": "light"
          },
          "output_type": "display_data"
        }
      ],
      "source": [
        "plot_curves(history)"
      ]
    }
  ],
  "metadata": {
    "accelerator": "GPU",
    "colab": {
      "machine_shape": "hm",
      "provenance": []
    },
    "gpuClass": "standard",
    "kernelspec": {
      "display_name": "Python 3",
      "name": "python3"
    }
  },
  "nbformat": 4,
  "nbformat_minor": 0
}
